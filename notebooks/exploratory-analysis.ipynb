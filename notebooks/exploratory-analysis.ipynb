{
 "cells": [
  {
   "cell_type": "markdown",
   "metadata": {},
   "source": [
    "# Exploratory data analysis"
   ]
  },
  {
   "cell_type": "markdown",
   "metadata": {},
   "source": [
    "In this notebook, we are going to do EDA to better understand the nature of our data. Since we already split the dataset into folds, we're only going to perform EDA on the train set of a single fold; the EDA result should be applicable to the other folds."
   ]
  },
  {
   "cell_type": "code",
   "execution_count": 31,
   "metadata": {},
   "outputs": [],
   "source": [
    "import sys\n",
    "sys.path.insert(0, '..')\n",
    "\n",
    "from collections import Counter\n",
    "import math\n",
    "import os\n",
    "import random\n",
    "\n",
    "import matplotlib.pyplot as plt\n",
    "import numpy as np\n",
    "\n",
    "from utils import CorpusReader\n",
    "\n",
    "plt.style.use('ggplot')\n",
    "%matplotlib inline"
   ]
  },
  {
   "cell_type": "code",
   "execution_count": 3,
   "metadata": {},
   "outputs": [],
   "source": [
    "data_dir = os.path.join('..', 'data', 'working', '2018-04-21', 'idn-tagged')\n",
    "\n",
    "reader = CorpusReader(os.path.join(data_dir, 'train.01.tsv'), lower=False, replace_digits=False)"
   ]
  },
  {
   "cell_type": "code",
   "execution_count": 27,
   "metadata": {},
   "outputs": [],
   "source": [
    "def plot_dist(data, name, bins=None):\n",
    "    plt.figure(figsize=(12, 6))\n",
    "    plt.subplot(121)\n",
    "    plt.hist(data, bins=bins)\n",
    "    plt.xlabel(name)\n",
    "    plt.subplot(122)\n",
    "    plt.boxplot(data)\n",
    "    plt.ylabel(name)\n",
    "    plt.xticks([])"
   ]
  },
  {
   "cell_type": "code",
   "execution_count": 8,
   "metadata": {},
   "outputs": [],
   "source": [
    "def create_outlier_detector(data):\n",
    "    q1, q3 = np.percentile(data, (25, 75))\n",
    "    def is_outlier(x):\n",
    "        iqr = q3 - q1\n",
    "        return x < q1 - 1.5*iqr or x > q3 + 1.5*iqr\n",
    "    return is_outlier"
   ]
  },
  {
   "cell_type": "markdown",
   "metadata": {},
   "source": [
    "## Sentence length distribution"
   ]
  },
  {
   "cell_type": "code",
   "execution_count": 6,
   "metadata": {},
   "outputs": [
    {
     "data": {
      "image/png": "[encoded data removed]",
      "text/plain": [
       "<Figure size 864x432 with 2 Axes>"
      ]
     },
     "metadata": {},
     "output_type": "display_data"
    }
   ],
   "source": [
    "sent_lengths = [len(sent) for sent in reader.sents()]\n",
    "plot_dist(sent_lengths, 'sentence length')"
   ]
  },
  {
   "cell_type": "markdown",
   "metadata": {},
   "source": [
    "The sentence length distribution is rather right-skewed and from the boxplot we see that there are quite a few outliers. Let's see what these outliers are."
   ]
  },
  {
   "cell_type": "code",
   "execution_count": 9,
   "metadata": {},
   "outputs": [],
   "source": [
    "is_outlier = create_outlier_detector(sent_lengths)\n",
    "outlier_sents = [sent for sent in reader.sents() if is_outlier(len(sent))]"
   ]
  },
  {
   "cell_type": "code",
   "execution_count": 10,
   "metadata": {},
   "outputs": [
    {
     "data": {
      "text/plain": [
       "61"
      ]
     },
     "execution_count": 10,
     "metadata": {},
     "output_type": "execute_result"
    }
   ],
   "source": [
    "len(outlier_sents)"
   ]
  },
  {
   "cell_type": "code",
   "execution_count": 13,
   "metadata": {},
   "outputs": [
    {
     "name": "stdout",
     "output_type": "stream",
     "text": [
      "Berdasarkan usulan pinjaman yang diajukan sebelum -nya , kata Benny , penyerapan pinjaman terbesar pada 2008 diberikan oleh JBIC sebesar 775,1 juta dolar AS 37 proyek , Bank Dunia 708,3 juta dolar AS 37 proyek , ADB 608,5 juta dolar AS 40 proyek , lembaga donor lain -nya Bank Pembangunan Islam / IDB dan Dana Internasional untuk Pembangunan Pertanian / IFAD 132,2 juta dolar AS 17 proyek .\n",
      "\n",
      "Pertemuan dua hari yang berlangsung di Doha , disponsori oleh Komite Pelatihan Hak-hak Yang Tak Bisa Dicabut dari Rakyat Palestina , adalah merupakan pintu masuk bagi krisis sosial ekonomi dan kemanusiaan di wilayah Palestina yang diduduki , meninjau kembali tanggapan internasional dan regional tentang keinginan-keinginan rakyat Palestina , serta menjajaki cara-cara untuk menjamin pemulihan ekonomi bangsa Palestina .\n",
      "\n",
      "Sebagai langkah awal , Agri Resources BV belum lama ini telah merealisasikan aksi akuisisi atas suatu kelompok usaha perkebunan yang memiliki lahan kebun di Sumatera Bagian Selatan dengan areal tertanam seluas 19 hektar dari total HGU Hak Guna Usaha seluas 36 hektar , di lahan perkebunan sawit itu sekitar 76 persen tanaman -nya sudah pada usia matang .\n",
      "\n",
      "Sementara untuk 2008 , BI memperkirakan pertumbuhan ekonomi Indonesia mencapai 6,2 - 6,8 persen dengan inflasi 5 plus minus 1 persen , rata-rata suku bunga SBI 3 bulan 7,5 - 8,0 persen , rata-rata kurs Rp 9.000 - 9.300 per dolar AS , harga minyak 56 dolar AS per barel dan lifting minyak 1,034 - 1,040 juta barel per hari .\n",
      "\n",
      "Obligasi negara yang jatuh tempo pada 2009 mencapai Rp 31,275 triliun , yaitu seri FR0002 senilai Rp 15,602 triliun jatuh tempo pada 15 Juni 2009 , ORI001 senilai Rp 3,283 triliun jatuh tempo pada 9 Agustus 2009 , seri VR0016 senilai Rp 9,434 triliun jatuh tempo pada 25 Juli 2009 , dan seri SU - 5 senilai Rp 2,956 triliun yang jatuh tempo pada 10 Desember 2009 .\n",
      "\n"
     ]
    }
   ],
   "source": [
    "for sent in random.choices(outlier_sents, k=5):\n",
    "    print(' '.join(sent), end='\\n\\n')"
   ]
  },
  {
   "cell_type": "markdown",
   "metadata": {},
   "source": [
    "The outlier sentences are all valid news sentences. Although it is tempting to discard or truncate these outliers, we think it is better to leave them as they are. Later though, we can analyze the tagger performance on, say, different levels of sentence length e.g. short sentences (fewer than 50 words) vs long sentences."
   ]
  },
  {
   "cell_type": "markdown",
   "metadata": {},
   "source": [
    "## POS tag distribution"
   ]
  },
  {
   "cell_type": "code",
   "execution_count": 18,
   "metadata": {},
   "outputs": [
    {
     "data": {
      "text/plain": [
       "23"
      ]
     },
     "execution_count": 18,
     "metadata": {},
     "output_type": "execute_result"
    }
   ],
   "source": [
    "c = Counter(tag for _, tag in reader.tagged_words())\n",
    "len(c)"
   ]
  },
  {
   "cell_type": "code",
   "execution_count": 19,
   "metadata": {},
   "outputs": [
    {
     "data": {
      "text/plain": [
       "[('NN', 44672),\n",
       " ('NNP', 24845),\n",
       " ('VB', 22790),\n",
       " ('Z', 18862),\n",
       " ('IN', 15371),\n",
       " ('CD', 12758),\n",
       " ('SC', 9366),\n",
       " ('JJ', 6997),\n",
       " ('PRP', 5408),\n",
       " ('CC', 5322)]"
      ]
     },
     "execution_count": 19,
     "metadata": {},
     "output_type": "execute_result"
    }
   ],
   "source": [
    "c.most_common(10)"
   ]
  },
  {
   "cell_type": "markdown",
   "metadata": {},
   "source": [
    "Unsurprisingly, the most common POS tags are nouns, followed by verbs and punctuations. Let's plot the whole distribution."
   ]
  },
  {
   "cell_type": "code",
   "execution_count": 22,
   "metadata": {},
   "outputs": [
    {
     "data": {
      "text/plain": [
       "<BarContainer object of 23 artists>"
      ]
     },
     "execution_count": 22,
     "metadata": {},
     "output_type": "execute_result"
    },
    {
     "data": {
      "image/png": "[encoded data removed]",
      "text/plain": [
       "<Figure size 1080x432 with 1 Axes>"
      ]
     },
     "metadata": {},
     "output_type": "display_data"
    }
   ],
   "source": [
    "tags, counts = zip(*c.most_common())\n",
    "plt.figure(figsize=(15, 6))\n",
    "plt.bar(range(len(tags)), counts, tick_label=tags)"
   ]
  },
  {
   "cell_type": "markdown",
   "metadata": {},
   "source": [
    "We see that the POS tags are imbalanced. We have a very high number for `NN` but then going to the left, the occurrence goes down quickly and we end up with only a handful number of `NND`, `OD`, etc. This might pose a problem. Some ways to deal with this imbalanced data is undersampling the majority or oversampling the minority. Before deciding on which way to go, let's plot the tag counts distribution first."
   ]
  },
  {
   "cell_type": "code",
   "execution_count": 30,
   "metadata": {},
   "outputs": [
    {
     "data": {
      "image/png": "[encoded data removed]",
      "text/plain": [
       "<Figure size 864x432 with 2 Axes>"
      ]
     },
     "metadata": {},
     "output_type": "display_data"
    }
   ],
   "source": [
    "plot_dist(counts, 'tag count')"
   ]
  },
  {
   "cell_type": "markdown",
   "metadata": {},
   "source": [
    "It seems that the outlier is `NN` tag here. It may make more sense to undersample sentences containing this tag."
   ]
  },
  {
   "cell_type": "code",
   "execution_count": 32,
   "metadata": {},
   "outputs": [],
   "source": [
    "def undersample(tagged_sents, majority_tag='NN', rate=0.1):\n",
    "    majority, rest = [], []\n",
    "    for tagged_sent in tagged_sents:\n",
    "        for _, tag in tagged_sent:\n",
    "            if tag == majority_tag:\n",
    "                majority.append(tagged_sent)\n",
    "                break\n",
    "        else:\n",
    "            rest.append(tagged_sent)\n",
    "    n_sample = math.floor(len(majority) * rate)\n",
    "    undersampled = random.choices(majority, k=n_sample)\n",
    "    for ts in undersampled:\n",
    "        rest.append(ts)\n",
    "    random.shuffle(rest)\n",
    "    return rest"
   ]
  },
  {
   "cell_type": "code",
   "execution_count": 33,
   "metadata": {},
   "outputs": [],
   "source": [
    "dataset = undersample(reader.tagged_sents())"
   ]
  },
  {
   "cell_type": "code",
   "execution_count": 34,
   "metadata": {},
   "outputs": [
    {
     "data": {
      "text/plain": [
       "<BarContainer object of 23 artists>"
      ]
     },
     "execution_count": 34,
     "metadata": {},
     "output_type": "execute_result"
    },
    {
     "data": {
      "image/png": "[encoded data removed]",
      "text/plain": [
       "<Figure size 1080x432 with 1 Axes>"
      ]
     },
     "metadata": {},
     "output_type": "display_data"
    }
   ],
   "source": [
    "c = Counter(tag for tagged_sent in dataset for _, tag in tagged_sent)\n",
    "tags, counts = zip(*c.most_common())\n",
    "plt.figure(figsize=(15, 6))\n",
    "plt.bar(range(len(tags)), counts, tick_label=tags)"
   ]
  },
  {
   "cell_type": "markdown",
   "metadata": {},
   "source": [
    "The distribution still look the same! This is not surprising when I think about it. When we undersample, we remove sentences containing the majority tag. But that sentence contains other tags as well. So, the counts for the other tags also decrease. Thus, undersampling/oversampling does not seem to suit well for this task.\n",
    "\n",
    "What else can we do? I think we can instead use the right performance measure. If we use accuracy, a model that only predict the majority class would have a high score. F1 score is a much better alternative as it takes into account the precision and recall of the model. Specifically, weighted macro-averaged F1 score is what I think best. Macro-averaged because for POS tagging, micro-averaged F1 score equals accuracy. Weighted because we do not want to be penalized for wrongly predicting infrequent tags like `RP` or `UH`. Fortunately, this scoring function is already provided by `scikit-learn`."
   ]
  }
 ],
 "metadata": {
  "kernelspec": {
   "display_name": "Python 3",
   "language": "python",
   "name": "python3"
  },
  "language_info": {
   "codemirror_mode": {
    "name": "ipython",
    "version": 3
   },
   "file_extension": ".py",
   "mimetype": "text/x-python",
   "name": "python",
   "nbconvert_exporter": "python",
   "pygments_lexer": "ipython3",
   "version": "3.6.5"
  }
 },
 "nbformat": 4,
 "nbformat_minor": 2
}
