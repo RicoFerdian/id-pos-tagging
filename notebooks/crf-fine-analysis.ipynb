{
 "cells": [
  {
   "cell_type": "markdown",
   "metadata": {},
   "source": [
    "# CRF fine-grained experiments analysis"
   ]
  },
  {
   "cell_type": "code",
   "execution_count": 74,
   "metadata": {},
   "outputs": [],
   "source": [
    "from collections import defaultdict\n",
    "from pprint import pprint\n",
    "import os\n",
    "\n",
    "from pymongo import MongoClient\n",
    "from scipy import stats\n",
    "import matplotlib.pyplot as plt\n",
    "import numpy as np\n",
    "import pandas as pd\n",
    "\n",
    "plt.style.use('ggplot')\n",
    "\n",
    "%matplotlib inline"
   ]
  },
  {
   "cell_type": "code",
   "execution_count": 3,
   "metadata": {},
   "outputs": [],
   "source": [
    "client = MongoClient(os.environ['SACRED_MONGO_URL'])\n",
    "db = client[os.environ['SACRED_DB_NAME']]"
   ]
  },
  {
   "cell_type": "markdown",
   "metadata": {},
   "source": [
    "## Best configuration"
   ]
  },
  {
   "cell_type": "code",
   "execution_count": 13,
   "metadata": {},
   "outputs": [],
   "source": [
    "def get_data(run_criteria):\n",
    "    data = defaultdict(list)\n",
    "    for run in db.runs.find(run_criteria):\n",
    "        data['run_id'].append(run['_id'])\n",
    "        for conf in 'c2 min_freq use_prefix use_suffix use_wordshape window'.split():\n",
    "            data[conf].append(run['config'][conf])\n",
    "        for which in ('train', 'dev'):\n",
    "            metric_name = f'final_f1({which})'\n",
    "            metric = db.metrics.find_one({'run_id': run['_id'], 'name': metric_name})\n",
    "            if metric is not None:\n",
    "                if len(metric['values']) != 1:\n",
    "                    print(f\"run {run['_id']} metric {metric_name} has length != 1, taking the last one\")\n",
    "                data[metric_name].append(metric['values'][-1])\n",
    "    return data"
   ]
  },
  {
   "cell_type": "markdown",
   "metadata": {},
   "source": [
    "### Fold 1"
   ]
  },
  {
   "cell_type": "code",
   "execution_count": 4,
   "metadata": {},
   "outputs": [
    {
     "data": {
      "text/plain": [
       "50"
      ]
     },
     "execution_count": 4,
     "metadata": {},
     "output_type": "execute_result"
    }
   ],
   "source": [
    "db.runs.count({'experiment.name': 'id-pos-tagging-crf-fine-fold1', 'status': 'COMPLETED'})"
   ]
  },
  {
   "cell_type": "code",
   "execution_count": 6,
   "metadata": {},
   "outputs": [],
   "source": [
    "run_criteria = {'experiment.name': 'id-pos-tagging-crf-fine-fold1', 'status': 'COMPLETED'}"
   ]
  },
  {
   "cell_type": "code",
   "execution_count": 14,
   "metadata": {},
   "outputs": [],
   "source": [
    "df = pd.DataFrame(get_data(run_criteria))"
   ]
  },
  {
   "cell_type": "code",
   "execution_count": 15,
   "metadata": {},
   "outputs": [
    {
     "data": {
      "text/html": [
       "<div>\n",
       "<style scoped>\n",
       "    .dataframe tbody tr th:only-of-type {\n",
       "        vertical-align: middle;\n",
       "    }\n",
       "\n",
       "    .dataframe tbody tr th {\n",
       "        vertical-align: top;\n",
       "    }\n",
       "\n",
       "    .dataframe thead th {\n",
       "        text-align: right;\n",
       "    }\n",
       "</style>\n",
       "<table border=\"1\" class=\"dataframe\">\n",
       "  <thead>\n",
       "    <tr style=\"text-align: right;\">\n",
       "      <th></th>\n",
       "      <th>c2</th>\n",
       "      <th>final_f1(dev)</th>\n",
       "      <th>final_f1(train)</th>\n",
       "      <th>min_freq</th>\n",
       "      <th>run_id</th>\n",
       "      <th>use_prefix</th>\n",
       "      <th>use_suffix</th>\n",
       "      <th>use_wordshape</th>\n",
       "      <th>window</th>\n",
       "    </tr>\n",
       "  </thead>\n",
       "  <tbody>\n",
       "    <tr>\n",
       "      <th>0</th>\n",
       "      <td>0.013532</td>\n",
       "      <td>0.940546</td>\n",
       "      <td>0.993455</td>\n",
       "      <td>1</td>\n",
       "      <td>23</td>\n",
       "      <td>False</td>\n",
       "      <td>False</td>\n",
       "      <td>True</td>\n",
       "      <td>4</td>\n",
       "    </tr>\n",
       "    <tr>\n",
       "      <th>1</th>\n",
       "      <td>0.017698</td>\n",
       "      <td>0.959884</td>\n",
       "      <td>0.986087</td>\n",
       "      <td>4</td>\n",
       "      <td>24</td>\n",
       "      <td>True</td>\n",
       "      <td>True</td>\n",
       "      <td>False</td>\n",
       "      <td>2</td>\n",
       "    </tr>\n",
       "    <tr>\n",
       "      <th>2</th>\n",
       "      <td>0.954260</td>\n",
       "      <td>0.958111</td>\n",
       "      <td>0.980786</td>\n",
       "      <td>1</td>\n",
       "      <td>25</td>\n",
       "      <td>True</td>\n",
       "      <td>True</td>\n",
       "      <td>True</td>\n",
       "      <td>2</td>\n",
       "    </tr>\n",
       "    <tr>\n",
       "      <th>3</th>\n",
       "      <td>0.069159</td>\n",
       "      <td>0.954609</td>\n",
       "      <td>0.996956</td>\n",
       "      <td>2</td>\n",
       "      <td>26</td>\n",
       "      <td>True</td>\n",
       "      <td>False</td>\n",
       "      <td>False</td>\n",
       "      <td>4</td>\n",
       "    </tr>\n",
       "    <tr>\n",
       "      <th>4</th>\n",
       "      <td>0.019186</td>\n",
       "      <td>0.945468</td>\n",
       "      <td>0.994915</td>\n",
       "      <td>3</td>\n",
       "      <td>27</td>\n",
       "      <td>False</td>\n",
       "      <td>True</td>\n",
       "      <td>False</td>\n",
       "      <td>5</td>\n",
       "    </tr>\n",
       "  </tbody>\n",
       "</table>\n",
       "</div>"
      ],
      "text/plain": [
       "         c2  final_f1(dev)  final_f1(train)  min_freq  run_id  use_prefix  \\\n",
       "0  0.013532       0.940546         0.993455         1      23       False   \n",
       "1  0.017698       0.959884         0.986087         4      24        True   \n",
       "2  0.954260       0.958111         0.980786         1      25        True   \n",
       "3  0.069159       0.954609         0.996956         2      26        True   \n",
       "4  0.019186       0.945468         0.994915         3      27       False   \n",
       "\n",
       "   use_suffix  use_wordshape  window  \n",
       "0       False           True       4  \n",
       "1        True          False       2  \n",
       "2        True           True       2  \n",
       "3       False          False       4  \n",
       "4        True          False       5  "
      ]
     },
     "execution_count": 15,
     "metadata": {},
     "output_type": "execute_result"
    }
   ],
   "source": [
    "df.head()"
   ]
  },
  {
   "cell_type": "code",
   "execution_count": 16,
   "metadata": {},
   "outputs": [
    {
     "data": {
      "text/plain": [
       "18"
      ]
     },
     "execution_count": 16,
     "metadata": {},
     "output_type": "execute_result"
    }
   ],
   "source": [
    "df['final_f1(dev)'].idxmax()"
   ]
  },
  {
   "cell_type": "code",
   "execution_count": 17,
   "metadata": {},
   "outputs": [
    {
     "data": {
      "text/plain": [
       "c2                 0.0223126\n",
       "final_f1(dev)       0.960338\n",
       "final_f1(train)     0.989564\n",
       "min_freq                   1\n",
       "run_id                    41\n",
       "use_prefix              True\n",
       "use_suffix             False\n",
       "use_wordshape          False\n",
       "window                     1\n",
       "Name: 18, dtype: object"
      ]
     },
     "execution_count": 17,
     "metadata": {},
     "output_type": "execute_result"
    }
   ],
   "source": [
    "df.iloc[df['final_f1(dev)'].idxmax()]"
   ]
  },
  {
   "cell_type": "markdown",
   "metadata": {},
   "source": [
    "### Fold 2"
   ]
  },
  {
   "cell_type": "code",
   "execution_count": 18,
   "metadata": {},
   "outputs": [],
   "source": [
    "run_criteria = {'experiment.name': 'id-pos-tagging-crf-fine-fold2', 'status': 'COMPLETED'}"
   ]
  },
  {
   "cell_type": "code",
   "execution_count": 19,
   "metadata": {},
   "outputs": [],
   "source": [
    "df = pd.DataFrame(get_data(run_criteria))"
   ]
  },
  {
   "cell_type": "code",
   "execution_count": 20,
   "metadata": {},
   "outputs": [
    {
     "data": {
      "text/html": [
       "<div>\n",
       "<style scoped>\n",
       "    .dataframe tbody tr th:only-of-type {\n",
       "        vertical-align: middle;\n",
       "    }\n",
       "\n",
       "    .dataframe tbody tr th {\n",
       "        vertical-align: top;\n",
       "    }\n",
       "\n",
       "    .dataframe thead th {\n",
       "        text-align: right;\n",
       "    }\n",
       "</style>\n",
       "<table border=\"1\" class=\"dataframe\">\n",
       "  <thead>\n",
       "    <tr style=\"text-align: right;\">\n",
       "      <th></th>\n",
       "      <th>c2</th>\n",
       "      <th>final_f1(dev)</th>\n",
       "      <th>final_f1(train)</th>\n",
       "      <th>min_freq</th>\n",
       "      <th>run_id</th>\n",
       "      <th>use_prefix</th>\n",
       "      <th>use_suffix</th>\n",
       "      <th>use_wordshape</th>\n",
       "      <th>window</th>\n",
       "    </tr>\n",
       "  </thead>\n",
       "  <tbody>\n",
       "    <tr>\n",
       "      <th>0</th>\n",
       "      <td>0.010775</td>\n",
       "      <td>0.953605</td>\n",
       "      <td>0.962854</td>\n",
       "      <td>3</td>\n",
       "      <td>73</td>\n",
       "      <td>True</td>\n",
       "      <td>False</td>\n",
       "      <td>True</td>\n",
       "      <td>0</td>\n",
       "    </tr>\n",
       "    <tr>\n",
       "      <th>1</th>\n",
       "      <td>0.505165</td>\n",
       "      <td>0.941358</td>\n",
       "      <td>0.949741</td>\n",
       "      <td>5</td>\n",
       "      <td>74</td>\n",
       "      <td>False</td>\n",
       "      <td>True</td>\n",
       "      <td>False</td>\n",
       "      <td>0</td>\n",
       "    </tr>\n",
       "    <tr>\n",
       "      <th>2</th>\n",
       "      <td>0.361862</td>\n",
       "      <td>0.957621</td>\n",
       "      <td>0.996979</td>\n",
       "      <td>1</td>\n",
       "      <td>75</td>\n",
       "      <td>True</td>\n",
       "      <td>True</td>\n",
       "      <td>False</td>\n",
       "      <td>4</td>\n",
       "    </tr>\n",
       "    <tr>\n",
       "      <th>3</th>\n",
       "      <td>0.001021</td>\n",
       "      <td>0.950308</td>\n",
       "      <td>0.996845</td>\n",
       "      <td>4</td>\n",
       "      <td>76</td>\n",
       "      <td>True</td>\n",
       "      <td>True</td>\n",
       "      <td>False</td>\n",
       "      <td>5</td>\n",
       "    </tr>\n",
       "    <tr>\n",
       "      <th>4</th>\n",
       "      <td>0.819127</td>\n",
       "      <td>0.957711</td>\n",
       "      <td>0.976038</td>\n",
       "      <td>3</td>\n",
       "      <td>77</td>\n",
       "      <td>True</td>\n",
       "      <td>True</td>\n",
       "      <td>False</td>\n",
       "      <td>2</td>\n",
       "    </tr>\n",
       "  </tbody>\n",
       "</table>\n",
       "</div>"
      ],
      "text/plain": [
       "         c2  final_f1(dev)  final_f1(train)  min_freq  run_id  use_prefix  \\\n",
       "0  0.010775       0.953605         0.962854         3      73        True   \n",
       "1  0.505165       0.941358         0.949741         5      74       False   \n",
       "2  0.361862       0.957621         0.996979         1      75        True   \n",
       "3  0.001021       0.950308         0.996845         4      76        True   \n",
       "4  0.819127       0.957711         0.976038         3      77        True   \n",
       "\n",
       "   use_suffix  use_wordshape  window  \n",
       "0       False           True       0  \n",
       "1        True          False       0  \n",
       "2        True          False       4  \n",
       "3        True          False       5  \n",
       "4        True          False       2  "
      ]
     },
     "execution_count": 20,
     "metadata": {},
     "output_type": "execute_result"
    }
   ],
   "source": [
    "df.head()"
   ]
  },
  {
   "cell_type": "code",
   "execution_count": 21,
   "metadata": {},
   "outputs": [
    {
     "data": {
      "text/plain": [
       "c2                 0.169665\n",
       "final_f1(dev)      0.964613\n",
       "final_f1(train)    0.988525\n",
       "min_freq                  1\n",
       "run_id                   89\n",
       "use_prefix             True\n",
       "use_suffix             True\n",
       "use_wordshape         False\n",
       "window                    1\n",
       "Name: 16, dtype: object"
      ]
     },
     "execution_count": 21,
     "metadata": {},
     "output_type": "execute_result"
    }
   ],
   "source": [
    "df.iloc[df['final_f1(dev)'].idxmax()]"
   ]
  },
  {
   "cell_type": "markdown",
   "metadata": {},
   "source": [
    "### Fold 3"
   ]
  },
  {
   "cell_type": "code",
   "execution_count": 22,
   "metadata": {},
   "outputs": [
    {
     "data": {
      "text/plain": [
       "c2                 0.0151549\n",
       "final_f1(dev)       0.959867\n",
       "final_f1(train)     0.999276\n",
       "min_freq                   1\n",
       "run_id                   150\n",
       "use_prefix              True\n",
       "use_suffix              True\n",
       "use_wordshape          False\n",
       "window                     3\n",
       "Name: 27, dtype: object"
      ]
     },
     "execution_count": 22,
     "metadata": {},
     "output_type": "execute_result"
    }
   ],
   "source": [
    "run_criteria = {'experiment.name': 'id-pos-tagging-crf-fine-fold3', 'status': 'COMPLETED'}\n",
    "df = pd.DataFrame(get_data(run_criteria))\n",
    "df.iloc[df['final_f1(dev)'].idxmax()]"
   ]
  },
  {
   "cell_type": "markdown",
   "metadata": {},
   "source": [
    "### Fold 4"
   ]
  },
  {
   "cell_type": "code",
   "execution_count": 23,
   "metadata": {},
   "outputs": [
    {
     "data": {
      "text/plain": [
       "c2                 0.189562\n",
       "final_f1(dev)      0.963507\n",
       "final_f1(train)    0.991749\n",
       "min_freq                  1\n",
       "run_id                  205\n",
       "use_prefix             True\n",
       "use_suffix             True\n",
       "use_wordshape          True\n",
       "window                    2\n",
       "Name: 32, dtype: object"
      ]
     },
     "execution_count": 23,
     "metadata": {},
     "output_type": "execute_result"
    }
   ],
   "source": [
    "run_criteria = {'experiment.name': 'id-pos-tagging-crf-fine-fold4', 'status': 'COMPLETED'}\n",
    "df = pd.DataFrame(get_data(run_criteria))\n",
    "df.iloc[df['final_f1(dev)'].idxmax()]"
   ]
  },
  {
   "cell_type": "markdown",
   "metadata": {},
   "source": [
    "### Fold 5"
   ]
  },
  {
   "cell_type": "code",
   "execution_count": 24,
   "metadata": {},
   "outputs": [
    {
     "data": {
      "text/plain": [
       "c2                 0.00762765\n",
       "final_f1(dev)        0.963838\n",
       "final_f1(train)      0.986588\n",
       "min_freq                    2\n",
       "run_id                    234\n",
       "use_prefix               True\n",
       "use_suffix               True\n",
       "use_wordshape           False\n",
       "window                      1\n",
       "Name: 11, dtype: object"
      ]
     },
     "execution_count": 24,
     "metadata": {},
     "output_type": "execute_result"
    }
   ],
   "source": [
    "run_criteria = {'experiment.name': 'id-pos-tagging-crf-fine-fold5', 'status': 'COMPLETED'}\n",
    "df = pd.DataFrame(get_data(run_criteria))\n",
    "df.iloc[df['final_f1(dev)'].idxmax()]"
   ]
  },
  {
   "cell_type": "markdown",
   "metadata": {},
   "source": [
    "## Features analysis"
   ]
  },
  {
   "cell_type": "code",
   "execution_count": 45,
   "metadata": {},
   "outputs": [],
   "source": [
    "data = defaultdict(list)\n",
    "for fold in range(1, 6):\n",
    "    run_criteria = {'experiment.name': f'id-pos-tagging-crf-fine-fold{fold}', 'status': 'COMPLETED'}\n",
    "    fold_data = get_data(run_criteria)\n",
    "    fold_data['fold'] = [fold] * len(fold_data['run_id'])\n",
    "    for key, val in fold_data.items():\n",
    "        data[key].extend(val)"
   ]
  },
  {
   "cell_type": "code",
   "execution_count": 46,
   "metadata": {},
   "outputs": [],
   "source": [
    "df = pd.DataFrame(data)"
   ]
  },
  {
   "cell_type": "code",
   "execution_count": 47,
   "metadata": {},
   "outputs": [
    {
     "data": {
      "text/html": [
       "<div>\n",
       "<style scoped>\n",
       "    .dataframe tbody tr th:only-of-type {\n",
       "        vertical-align: middle;\n",
       "    }\n",
       "\n",
       "    .dataframe tbody tr th {\n",
       "        vertical-align: top;\n",
       "    }\n",
       "\n",
       "    .dataframe thead th {\n",
       "        text-align: right;\n",
       "    }\n",
       "</style>\n",
       "<table border=\"1\" class=\"dataframe\">\n",
       "  <thead>\n",
       "    <tr style=\"text-align: right;\">\n",
       "      <th></th>\n",
       "      <th>c2</th>\n",
       "      <th>final_f1(dev)</th>\n",
       "      <th>final_f1(train)</th>\n",
       "      <th>fold</th>\n",
       "      <th>min_freq</th>\n",
       "      <th>run_id</th>\n",
       "      <th>use_prefix</th>\n",
       "      <th>use_suffix</th>\n",
       "      <th>use_wordshape</th>\n",
       "      <th>window</th>\n",
       "    </tr>\n",
       "  </thead>\n",
       "  <tbody>\n",
       "    <tr>\n",
       "      <th>0</th>\n",
       "      <td>0.013532</td>\n",
       "      <td>0.940546</td>\n",
       "      <td>0.993455</td>\n",
       "      <td>1</td>\n",
       "      <td>1</td>\n",
       "      <td>23</td>\n",
       "      <td>False</td>\n",
       "      <td>False</td>\n",
       "      <td>True</td>\n",
       "      <td>4</td>\n",
       "    </tr>\n",
       "    <tr>\n",
       "      <th>1</th>\n",
       "      <td>0.017698</td>\n",
       "      <td>0.959884</td>\n",
       "      <td>0.986087</td>\n",
       "      <td>1</td>\n",
       "      <td>4</td>\n",
       "      <td>24</td>\n",
       "      <td>True</td>\n",
       "      <td>True</td>\n",
       "      <td>False</td>\n",
       "      <td>2</td>\n",
       "    </tr>\n",
       "    <tr>\n",
       "      <th>2</th>\n",
       "      <td>0.954260</td>\n",
       "      <td>0.958111</td>\n",
       "      <td>0.980786</td>\n",
       "      <td>1</td>\n",
       "      <td>1</td>\n",
       "      <td>25</td>\n",
       "      <td>True</td>\n",
       "      <td>True</td>\n",
       "      <td>True</td>\n",
       "      <td>2</td>\n",
       "    </tr>\n",
       "    <tr>\n",
       "      <th>3</th>\n",
       "      <td>0.069159</td>\n",
       "      <td>0.954609</td>\n",
       "      <td>0.996956</td>\n",
       "      <td>1</td>\n",
       "      <td>2</td>\n",
       "      <td>26</td>\n",
       "      <td>True</td>\n",
       "      <td>False</td>\n",
       "      <td>False</td>\n",
       "      <td>4</td>\n",
       "    </tr>\n",
       "    <tr>\n",
       "      <th>4</th>\n",
       "      <td>0.019186</td>\n",
       "      <td>0.945468</td>\n",
       "      <td>0.994915</td>\n",
       "      <td>1</td>\n",
       "      <td>3</td>\n",
       "      <td>27</td>\n",
       "      <td>False</td>\n",
       "      <td>True</td>\n",
       "      <td>False</td>\n",
       "      <td>5</td>\n",
       "    </tr>\n",
       "  </tbody>\n",
       "</table>\n",
       "</div>"
      ],
      "text/plain": [
       "         c2  final_f1(dev)  final_f1(train)  fold  min_freq  run_id  \\\n",
       "0  0.013532       0.940546         0.993455     1         1      23   \n",
       "1  0.017698       0.959884         0.986087     1         4      24   \n",
       "2  0.954260       0.958111         0.980786     1         1      25   \n",
       "3  0.069159       0.954609         0.996956     1         2      26   \n",
       "4  0.019186       0.945468         0.994915     1         3      27   \n",
       "\n",
       "   use_prefix  use_suffix  use_wordshape  window  \n",
       "0       False       False           True       4  \n",
       "1        True        True          False       2  \n",
       "2        True        True           True       2  \n",
       "3        True       False          False       4  \n",
       "4       False        True          False       5  "
      ]
     },
     "execution_count": 47,
     "metadata": {},
     "output_type": "execute_result"
    }
   ],
   "source": [
    "df.head()"
   ]
  },
  {
   "cell_type": "markdown",
   "metadata": {},
   "source": [
    "### Binary features"
   ]
  },
  {
   "cell_type": "markdown",
   "metadata": {},
   "source": [
    "#### use_prefix"
   ]
  },
  {
   "cell_type": "code",
   "execution_count": 48,
   "metadata": {},
   "outputs": [
    {
     "data": {
      "text/plain": [
       "<matplotlib.axes._subplots.AxesSubplot at 0x1a14c2b390>"
      ]
     },
     "execution_count": 48,
     "metadata": {},
     "output_type": "execute_result"
    },
    {
     "data": {
      "image/png": "[encoded data removed]",
      "text/plain": [
       "<Figure size 864x576 with 1 Axes>"
      ]
     },
     "metadata": {},
     "output_type": "display_data"
    }
   ],
   "source": [
    "df.boxplot(by='use_prefix', column='final_f1(dev)', figsize=(12, 8))"
   ]
  },
  {
   "cell_type": "code",
   "execution_count": 49,
   "metadata": {},
   "outputs": [
    {
     "data": {
      "text/plain": [
       "Ttest_indResult(statistic=16.55650766924044, pvalue=5.640707785410764e-42)"
      ]
     },
     "execution_count": 49,
     "metadata": {},
     "output_type": "execute_result"
    }
   ],
   "source": [
    "stats.ttest_ind(df[df.use_prefix]['final_f1(dev)'], df[~df.use_prefix]['final_f1(dev)'])"
   ]
  },
  {
   "cell_type": "markdown",
   "metadata": {},
   "source": [
    "We see that `use_prefix=True` is significantly better than than `use_prefix=False` with p < 0.05."
   ]
  },
  {
   "cell_type": "markdown",
   "metadata": {},
   "source": [
    "#### use_suffix"
   ]
  },
  {
   "cell_type": "code",
   "execution_count": 50,
   "metadata": {},
   "outputs": [
    {
     "data": {
      "text/plain": [
       "<matplotlib.axes._subplots.AxesSubplot at 0x1a14c359e8>"
      ]
     },
     "execution_count": 50,
     "metadata": {},
     "output_type": "execute_result"
    },
    {
     "data": {
      "image/png": "[encoded data removed]",
      "text/plain": [
       "<Figure size 864x576 with 1 Axes>"
      ]
     },
     "metadata": {},
     "output_type": "display_data"
    }
   ],
   "source": [
    "df.boxplot(by='use_suffix', column='final_f1(dev)', figsize=(12, 8))"
   ]
  },
  {
   "cell_type": "code",
   "execution_count": 51,
   "metadata": {},
   "outputs": [
    {
     "data": {
      "text/plain": [
       "Ttest_indResult(statistic=10.401404843565183, pvalue=2.9021622719104793e-21)"
      ]
     },
     "execution_count": 51,
     "metadata": {},
     "output_type": "execute_result"
    }
   ],
   "source": [
    "stats.ttest_ind(df[df.use_suffix]['final_f1(dev)'], df[~df.use_suffix]['final_f1(dev)'])"
   ]
  },
  {
   "cell_type": "markdown",
   "metadata": {},
   "source": [
    "Similarly, we see that `use_suffix=True` is significantly better than than `use_suffix=False` with p < 0.05."
   ]
  },
  {
   "cell_type": "markdown",
   "metadata": {},
   "source": [
    "#### use_wordshape"
   ]
  },
  {
   "cell_type": "code",
   "execution_count": 52,
   "metadata": {},
   "outputs": [
    {
     "data": {
      "text/plain": [
       "<matplotlib.axes._subplots.AxesSubplot at 0x1069af6a0>"
      ]
     },
     "execution_count": 52,
     "metadata": {},
     "output_type": "execute_result"
    },
    {
     "data": {
      "image/png": "[encoded data removed]",
      "text/plain": [
       "<Figure size 864x576 with 1 Axes>"
      ]
     },
     "metadata": {},
     "output_type": "display_data"
    }
   ],
   "source": [
    "df.boxplot(by='use_wordshape', column='final_f1(dev)', figsize=(12, 8))"
   ]
  },
  {
   "cell_type": "code",
   "execution_count": 53,
   "metadata": {},
   "outputs": [
    {
     "data": {
      "text/plain": [
       "Ttest_indResult(statistic=0.09895401967643712, pvalue=0.92125471447865)"
      ]
     },
     "execution_count": 53,
     "metadata": {},
     "output_type": "execute_result"
    }
   ],
   "source": [
    "stats.ttest_ind(df[df.use_wordshape]['final_f1(dev)'], df[~df.use_wordshape]['final_f1(dev)'])"
   ]
  },
  {
   "cell_type": "markdown",
   "metadata": {},
   "source": [
    "The p-value indicates that the effect of wordshape feature does not seem significant."
   ]
  },
  {
   "cell_type": "markdown",
   "metadata": {},
   "source": [
    "### Multinomial features"
   ]
  },
  {
   "cell_type": "markdown",
   "metadata": {},
   "source": [
    "#### min_freq"
   ]
  },
  {
   "cell_type": "code",
   "execution_count": 54,
   "metadata": {},
   "outputs": [
    {
     "data": {
      "text/plain": [
       "<matplotlib.axes._subplots.AxesSubplot at 0x1a14e32c50>"
      ]
     },
     "execution_count": 54,
     "metadata": {},
     "output_type": "execute_result"
    },
    {
     "data": {
      "image/png": "[encoded data removed]",
      "text/plain": [
       "<Figure size 864x576 with 1 Axes>"
      ]
     },
     "metadata": {},
     "output_type": "display_data"
    }
   ],
   "source": [
    "df.boxplot(by='min_freq', column='final_f1(dev)', figsize=(12, 8))"
   ]
  },
  {
   "cell_type": "code",
   "execution_count": 61,
   "metadata": {},
   "outputs": [
    {
     "data": {
      "text/plain": [
       "array([1, 4, 2, 3, 5])"
      ]
     },
     "execution_count": 61,
     "metadata": {},
     "output_type": "execute_result"
    }
   ],
   "source": [
    "df.min_freq.unique()"
   ]
  },
  {
   "cell_type": "code",
   "execution_count": 63,
   "metadata": {},
   "outputs": [],
   "source": [
    "samples = []\n",
    "for min_freq in df.min_freq.unique():\n",
    "    samples.append(df[df.min_freq == min_freq]['final_f1(dev)'])"
   ]
  },
  {
   "cell_type": "code",
   "execution_count": 64,
   "metadata": {},
   "outputs": [
    {
     "data": {
      "text/plain": [
       "F_onewayResult(statistic=1.7977845105065469, pvalue=0.12986219819266515)"
      ]
     },
     "execution_count": 64,
     "metadata": {},
     "output_type": "execute_result"
    }
   ],
   "source": [
    "stats.f_oneway(*samples)"
   ]
  },
  {
   "cell_type": "markdown",
   "metadata": {},
   "source": [
    "There does not seem any significant difference between different values for `min_freq` as the p-value is high."
   ]
  },
  {
   "cell_type": "markdown",
   "metadata": {},
   "source": [
    "#### window"
   ]
  },
  {
   "cell_type": "code",
   "execution_count": 65,
   "metadata": {},
   "outputs": [
    {
     "data": {
      "text/plain": [
       "<matplotlib.axes._subplots.AxesSubplot at 0x1a156a6940>"
      ]
     },
     "execution_count": 65,
     "metadata": {},
     "output_type": "execute_result"
    },
    {
     "data": {
      "image/png": "[encoded data removed]",
      "text/plain": [
       "<Figure size 864x576 with 1 Axes>"
      ]
     },
     "metadata": {},
     "output_type": "display_data"
    }
   ],
   "source": [
    "df.boxplot(by='window', column='final_f1(dev)', figsize=(12, 8))"
   ]
  },
  {
   "cell_type": "code",
   "execution_count": 66,
   "metadata": {},
   "outputs": [
    {
     "data": {
      "text/plain": [
       "array([4, 2, 5, 1, 3, 0])"
      ]
     },
     "execution_count": 66,
     "metadata": {},
     "output_type": "execute_result"
    }
   ],
   "source": [
    "df.window.unique()"
   ]
  },
  {
   "cell_type": "code",
   "execution_count": 67,
   "metadata": {},
   "outputs": [],
   "source": [
    "samples = []\n",
    "for window in df.window.unique():\n",
    "    samples.append(df[df.window == window]['final_f1(dev)'])"
   ]
  },
  {
   "cell_type": "code",
   "execution_count": 68,
   "metadata": {},
   "outputs": [
    {
     "data": {
      "text/plain": [
       "F_onewayResult(statistic=11.790755433176717, pvalue=3.1740524157332817e-10)"
      ]
     },
     "execution_count": 68,
     "metadata": {},
     "output_type": "execute_result"
    }
   ],
   "source": [
    "stats.f_oneway(*samples)"
   ]
  },
  {
   "cell_type": "markdown",
   "metadata": {},
   "source": [
    "Based on the ANOVA test, it seems there is a significant difference among the F1 means of different values of `window`. Looking at the boxplot, we see that the highest median is achieved by `window=2`. Let's see if its differences from the next two highest median, `window=1` and `window=3` are significant."
   ]
  },
  {
   "cell_type": "code",
   "execution_count": 69,
   "metadata": {},
   "outputs": [
    {
     "data": {
      "text/plain": [
       "Ttest_indResult(statistic=0.03084869897194743, pvalue=0.9754549199730077)"
      ]
     },
     "execution_count": 69,
     "metadata": {},
     "output_type": "execute_result"
    }
   ],
   "source": [
    "stats.ttest_ind(df[df.window == 2]['final_f1(dev)'], df[df.window == 1]['final_f1(dev)'])"
   ]
  },
  {
   "cell_type": "code",
   "execution_count": 70,
   "metadata": {},
   "outputs": [
    {
     "data": {
      "text/plain": [
       "Ttest_indResult(statistic=1.141922634458325, pvalue=0.2566556633323037)"
      ]
     },
     "execution_count": 70,
     "metadata": {},
     "output_type": "execute_result"
    }
   ],
   "source": [
    "stats.ttest_ind(df[df.window == 2]['final_f1(dev)'], df[df.window == 3]['final_f1(dev)'])"
   ]
  },
  {
   "cell_type": "markdown",
   "metadata": {},
   "source": [
    "The p-values are high, so there seems no significant difference. Let's compare with `window=0` (no context) and `window=4`."
   ]
  },
  {
   "cell_type": "code",
   "execution_count": 71,
   "metadata": {},
   "outputs": [
    {
     "data": {
      "text/plain": [
       "Ttest_indResult(statistic=3.8396633860739846, pvalue=0.0002452406391284908)"
      ]
     },
     "execution_count": 71,
     "metadata": {},
     "output_type": "execute_result"
    }
   ],
   "source": [
    "stats.ttest_ind(df[df.window == 2]['final_f1(dev)'], df[df.window == 0]['final_f1(dev)'])"
   ]
  },
  {
   "cell_type": "code",
   "execution_count": 72,
   "metadata": {},
   "outputs": [
    {
     "data": {
      "text/plain": [
       "Ttest_indResult(statistic=4.942907218140948, pvalue=3.490921859979387e-06)"
      ]
     },
     "execution_count": 72,
     "metadata": {},
     "output_type": "execute_result"
    }
   ],
   "source": [
    "stats.ttest_ind(df[df.window == 2]['final_f1(dev)'], df[df.window == 4]['final_f1(dev)'])"
   ]
  },
  {
   "cell_type": "markdown",
   "metadata": {},
   "source": [
    "We see that the p-values are less than 0.05, indicating significant differences. So, we can conclude that context (`window > 0`) is useful but too many of it (`window >= 4`) is bad. The optimal value for the context window seems to be between 1 and 3 (inclusive)."
   ]
  },
  {
   "cell_type": "markdown",
   "metadata": {},
   "source": [
    "### Numerical features"
   ]
  },
  {
   "cell_type": "markdown",
   "metadata": {},
   "source": [
    "#### c2"
   ]
  },
  {
   "cell_type": "code",
   "execution_count": 75,
   "metadata": {},
   "outputs": [],
   "source": [
    "df['log10_c2'] = np.log10(df['c2'])"
   ]
  },
  {
   "cell_type": "code",
   "execution_count": 76,
   "metadata": {},
   "outputs": [
    {
     "data": {
      "text/html": [
       "<div>\n",
       "<style scoped>\n",
       "    .dataframe tbody tr th:only-of-type {\n",
       "        vertical-align: middle;\n",
       "    }\n",
       "\n",
       "    .dataframe tbody tr th {\n",
       "        vertical-align: top;\n",
       "    }\n",
       "\n",
       "    .dataframe thead th {\n",
       "        text-align: right;\n",
       "    }\n",
       "</style>\n",
       "<table border=\"1\" class=\"dataframe\">\n",
       "  <thead>\n",
       "    <tr style=\"text-align: right;\">\n",
       "      <th></th>\n",
       "      <th>c2</th>\n",
       "      <th>final_f1(dev)</th>\n",
       "      <th>final_f1(train)</th>\n",
       "      <th>fold</th>\n",
       "      <th>min_freq</th>\n",
       "      <th>run_id</th>\n",
       "      <th>use_prefix</th>\n",
       "      <th>use_suffix</th>\n",
       "      <th>use_wordshape</th>\n",
       "      <th>window</th>\n",
       "      <th>log10_c2</th>\n",
       "    </tr>\n",
       "  </thead>\n",
       "  <tbody>\n",
       "    <tr>\n",
       "      <th>0</th>\n",
       "      <td>0.013532</td>\n",
       "      <td>0.940546</td>\n",
       "      <td>0.993455</td>\n",
       "      <td>1</td>\n",
       "      <td>1</td>\n",
       "      <td>23</td>\n",
       "      <td>False</td>\n",
       "      <td>False</td>\n",
       "      <td>True</td>\n",
       "      <td>4</td>\n",
       "      <td>-1.868630</td>\n",
       "    </tr>\n",
       "    <tr>\n",
       "      <th>1</th>\n",
       "      <td>0.017698</td>\n",
       "      <td>0.959884</td>\n",
       "      <td>0.986087</td>\n",
       "      <td>1</td>\n",
       "      <td>4</td>\n",
       "      <td>24</td>\n",
       "      <td>True</td>\n",
       "      <td>True</td>\n",
       "      <td>False</td>\n",
       "      <td>2</td>\n",
       "      <td>-1.752066</td>\n",
       "    </tr>\n",
       "    <tr>\n",
       "      <th>2</th>\n",
       "      <td>0.954260</td>\n",
       "      <td>0.958111</td>\n",
       "      <td>0.980786</td>\n",
       "      <td>1</td>\n",
       "      <td>1</td>\n",
       "      <td>25</td>\n",
       "      <td>True</td>\n",
       "      <td>True</td>\n",
       "      <td>True</td>\n",
       "      <td>2</td>\n",
       "      <td>-0.020333</td>\n",
       "    </tr>\n",
       "    <tr>\n",
       "      <th>3</th>\n",
       "      <td>0.069159</td>\n",
       "      <td>0.954609</td>\n",
       "      <td>0.996956</td>\n",
       "      <td>1</td>\n",
       "      <td>2</td>\n",
       "      <td>26</td>\n",
       "      <td>True</td>\n",
       "      <td>False</td>\n",
       "      <td>False</td>\n",
       "      <td>4</td>\n",
       "      <td>-1.160149</td>\n",
       "    </tr>\n",
       "    <tr>\n",
       "      <th>4</th>\n",
       "      <td>0.019186</td>\n",
       "      <td>0.945468</td>\n",
       "      <td>0.994915</td>\n",
       "      <td>1</td>\n",
       "      <td>3</td>\n",
       "      <td>27</td>\n",
       "      <td>False</td>\n",
       "      <td>True</td>\n",
       "      <td>False</td>\n",
       "      <td>5</td>\n",
       "      <td>-1.717007</td>\n",
       "    </tr>\n",
       "  </tbody>\n",
       "</table>\n",
       "</div>"
      ],
      "text/plain": [
       "         c2  final_f1(dev)  final_f1(train)  fold  min_freq  run_id  \\\n",
       "0  0.013532       0.940546         0.993455     1         1      23   \n",
       "1  0.017698       0.959884         0.986087     1         4      24   \n",
       "2  0.954260       0.958111         0.980786     1         1      25   \n",
       "3  0.069159       0.954609         0.996956     1         2      26   \n",
       "4  0.019186       0.945468         0.994915     1         3      27   \n",
       "\n",
       "   use_prefix  use_suffix  use_wordshape  window  log10_c2  \n",
       "0       False       False           True       4 -1.868630  \n",
       "1        True        True          False       2 -1.752066  \n",
       "2        True        True           True       2 -0.020333  \n",
       "3        True       False          False       4 -1.160149  \n",
       "4       False        True          False       5 -1.717007  "
      ]
     },
     "execution_count": 76,
     "metadata": {},
     "output_type": "execute_result"
    }
   ],
   "source": [
    "df.head()"
   ]
  },
  {
   "cell_type": "code",
   "execution_count": 77,
   "metadata": {},
   "outputs": [
    {
     "data": {
      "text/plain": [
       "<matplotlib.axes._subplots.AxesSubplot at 0x103024a90>"
      ]
     },
     "execution_count": 77,
     "metadata": {},
     "output_type": "execute_result"
    },
    {
     "data": {
      "image/png": "[encoded data removed]",
      "text/plain": [
       "<Figure size 432x288 with 1 Axes>"
      ]
     },
     "metadata": {},
     "output_type": "display_data"
    }
   ],
   "source": [
    "df.plot.scatter(x='log10_c2', y='final_f1(dev)')"
   ]
  },
  {
   "cell_type": "markdown",
   "metadata": {},
   "source": [
    "There does not seem any trend between `c2` and dev F1 score, which is surprising because regularization usually helps. Could this mean that the model underfits? It is interesting to verify this by plotting a learning curve, although we can see that the model achieves a very high training F1."
   ]
  },
  {
   "cell_type": "markdown",
   "metadata": {},
   "source": [
    "## Conclusion"
   ]
  },
  {
   "cell_type": "markdown",
   "metadata": {},
   "source": [
    "From the analysis, we can conclude that:\n",
    "\n",
    "- Incorporating prefix and suffix helps\n",
    "- Wordshape does not seem to help\n",
    "- The effect of minimum feature frequency is not clear\n",
    "- Contextual features help, with optimal context window size is between 1 and 3\n",
    "- L2 regularization does not seem to have an effect on performance, so it might be interesting to check if the model underfits"
   ]
  }
 ],
 "metadata": {
  "kernelspec": {
   "display_name": "Python 3",
   "language": "python",
   "name": "python3"
  },
  "language_info": {
   "codemirror_mode": {
    "name": "ipython",
    "version": 3
   },
   "file_extension": ".py",
   "mimetype": "text/x-python",
   "name": "python",
   "nbconvert_exporter": "python",
   "pygments_lexer": "ipython3",
   "version": "3.6.5"
  }
 },
 "nbformat": 4,
 "nbformat_minor": 2
}
