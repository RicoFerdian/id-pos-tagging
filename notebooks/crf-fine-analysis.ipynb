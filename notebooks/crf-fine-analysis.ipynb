{
 "cells": [
  {
   "cell_type": "markdown",
   "metadata": {},
   "source": [
    "# CRF fine-grained experiments analysis"
   ]
  },
  {
   "cell_type": "code",
   "execution_count": 5,
   "metadata": {},
   "outputs": [],
   "source": [
    "from collections import defaultdict\n",
    "from pprint import pprint\n",
    "import os\n",
    "\n",
    "from pymongo import MongoClient\n",
    "import pandas as pd"
   ]
  },
  {
   "cell_type": "code",
   "execution_count": 3,
   "metadata": {},
   "outputs": [],
   "source": [
    "client = MongoClient(os.environ['SACRED_MONGO_URL'])\n",
    "db = client[os.environ['SACRED_DB_NAME']]"
   ]
  },
  {
   "cell_type": "markdown",
   "metadata": {},
   "source": [
    "## Best configuration"
   ]
  },
  {
   "cell_type": "code",
   "execution_count": 13,
   "metadata": {},
   "outputs": [],
   "source": [
    "def get_data(run_criteria):\n",
    "    data = defaultdict(list)\n",
    "    for run in db.runs.find(run_criteria):\n",
    "        data['run_id'].append(run['_id'])\n",
    "        for conf in 'c2 min_freq use_prefix use_suffix use_wordshape window'.split():\n",
    "            data[conf].append(run['config'][conf])\n",
    "        for which in ('train', 'dev'):\n",
    "            metric_name = f'final_f1({which})'\n",
    "            metric = db.metrics.find_one({'run_id': run['_id'], 'name': metric_name})\n",
    "            if metric is not None:\n",
    "                if len(metric['values']) != 1:\n",
    "                    print(f\"run {run['_id']} metric {metric_name} has length != 1, taking the last one\")\n",
    "                data[metric_name].append(metric['values'][-1])\n",
    "    return data"
   ]
  },
  {
   "cell_type": "markdown",
   "metadata": {},
   "source": [
    "### Fold 1"
   ]
  },
  {
   "cell_type": "code",
   "execution_count": 4,
   "metadata": {},
   "outputs": [
    {
     "data": {
      "text/plain": [
       "50"
      ]
     },
     "execution_count": 4,
     "metadata": {},
     "output_type": "execute_result"
    }
   ],
   "source": [
    "db.runs.count({'experiment.name': 'id-pos-tagging-crf-fine-fold1', 'status': 'COMPLETED'})"
   ]
  },
  {
   "cell_type": "code",
   "execution_count": 6,
   "metadata": {},
   "outputs": [],
   "source": [
    "run_criteria = {'experiment.name': 'id-pos-tagging-crf-fine-fold1', 'status': 'COMPLETED'}"
   ]
  },
  {
   "cell_type": "code",
   "execution_count": 14,
   "metadata": {},
   "outputs": [],
   "source": [
    "df = pd.DataFrame(get_data(run_criteria))"
   ]
  },
  {
   "cell_type": "code",
   "execution_count": 15,
   "metadata": {},
   "outputs": [
    {
     "data": {
      "text/html": [
       "<div>\n",
       "<style scoped>\n",
       "    .dataframe tbody tr th:only-of-type {\n",
       "        vertical-align: middle;\n",
       "    }\n",
       "\n",
       "    .dataframe tbody tr th {\n",
       "        vertical-align: top;\n",
       "    }\n",
       "\n",
       "    .dataframe thead th {\n",
       "        text-align: right;\n",
       "    }\n",
       "</style>\n",
       "<table border=\"1\" class=\"dataframe\">\n",
       "  <thead>\n",
       "    <tr style=\"text-align: right;\">\n",
       "      <th></th>\n",
       "      <th>c2</th>\n",
       "      <th>final_f1(dev)</th>\n",
       "      <th>final_f1(train)</th>\n",
       "      <th>min_freq</th>\n",
       "      <th>run_id</th>\n",
       "      <th>use_prefix</th>\n",
       "      <th>use_suffix</th>\n",
       "      <th>use_wordshape</th>\n",
       "      <th>window</th>\n",
       "    </tr>\n",
       "  </thead>\n",
       "  <tbody>\n",
       "    <tr>\n",
       "      <th>0</th>\n",
       "      <td>0.013532</td>\n",
       "      <td>0.940546</td>\n",
       "      <td>0.993455</td>\n",
       "      <td>1</td>\n",
       "      <td>23</td>\n",
       "      <td>False</td>\n",
       "      <td>False</td>\n",
       "      <td>True</td>\n",
       "      <td>4</td>\n",
       "    </tr>\n",
       "    <tr>\n",
       "      <th>1</th>\n",
       "      <td>0.017698</td>\n",
       "      <td>0.959884</td>\n",
       "      <td>0.986087</td>\n",
       "      <td>4</td>\n",
       "      <td>24</td>\n",
       "      <td>True</td>\n",
       "      <td>True</td>\n",
       "      <td>False</td>\n",
       "      <td>2</td>\n",
       "    </tr>\n",
       "    <tr>\n",
       "      <th>2</th>\n",
       "      <td>0.954260</td>\n",
       "      <td>0.958111</td>\n",
       "      <td>0.980786</td>\n",
       "      <td>1</td>\n",
       "      <td>25</td>\n",
       "      <td>True</td>\n",
       "      <td>True</td>\n",
       "      <td>True</td>\n",
       "      <td>2</td>\n",
       "    </tr>\n",
       "    <tr>\n",
       "      <th>3</th>\n",
       "      <td>0.069159</td>\n",
       "      <td>0.954609</td>\n",
       "      <td>0.996956</td>\n",
       "      <td>2</td>\n",
       "      <td>26</td>\n",
       "      <td>True</td>\n",
       "      <td>False</td>\n",
       "      <td>False</td>\n",
       "      <td>4</td>\n",
       "    </tr>\n",
       "    <tr>\n",
       "      <th>4</th>\n",
       "      <td>0.019186</td>\n",
       "      <td>0.945468</td>\n",
       "      <td>0.994915</td>\n",
       "      <td>3</td>\n",
       "      <td>27</td>\n",
       "      <td>False</td>\n",
       "      <td>True</td>\n",
       "      <td>False</td>\n",
       "      <td>5</td>\n",
       "    </tr>\n",
       "  </tbody>\n",
       "</table>\n",
       "</div>"
      ],
      "text/plain": [
       "         c2  final_f1(dev)  final_f1(train)  min_freq  run_id  use_prefix  \\\n",
       "0  0.013532       0.940546         0.993455         1      23       False   \n",
       "1  0.017698       0.959884         0.986087         4      24        True   \n",
       "2  0.954260       0.958111         0.980786         1      25        True   \n",
       "3  0.069159       0.954609         0.996956         2      26        True   \n",
       "4  0.019186       0.945468         0.994915         3      27       False   \n",
       "\n",
       "   use_suffix  use_wordshape  window  \n",
       "0       False           True       4  \n",
       "1        True          False       2  \n",
       "2        True           True       2  \n",
       "3       False          False       4  \n",
       "4        True          False       5  "
      ]
     },
     "execution_count": 15,
     "metadata": {},
     "output_type": "execute_result"
    }
   ],
   "source": [
    "df.head()"
   ]
  },
  {
   "cell_type": "code",
   "execution_count": 16,
   "metadata": {},
   "outputs": [
    {
     "data": {
      "text/plain": [
       "18"
      ]
     },
     "execution_count": 16,
     "metadata": {},
     "output_type": "execute_result"
    }
   ],
   "source": [
    "df['final_f1(dev)'].idxmax()"
   ]
  },
  {
   "cell_type": "code",
   "execution_count": 17,
   "metadata": {},
   "outputs": [
    {
     "data": {
      "text/plain": [
       "c2                 0.0223126\n",
       "final_f1(dev)       0.960338\n",
       "final_f1(train)     0.989564\n",
       "min_freq                   1\n",
       "run_id                    41\n",
       "use_prefix              True\n",
       "use_suffix             False\n",
       "use_wordshape          False\n",
       "window                     1\n",
       "Name: 18, dtype: object"
      ]
     },
     "execution_count": 17,
     "metadata": {},
     "output_type": "execute_result"
    }
   ],
   "source": [
    "df.iloc[df['final_f1(dev)'].idxmax()]"
   ]
  },
  {
   "cell_type": "markdown",
   "metadata": {},
   "source": [
    "### Fold 2"
   ]
  },
  {
   "cell_type": "code",
   "execution_count": 18,
   "metadata": {},
   "outputs": [],
   "source": [
    "run_criteria = {'experiment.name': 'id-pos-tagging-crf-fine-fold2', 'status': 'COMPLETED'}"
   ]
  },
  {
   "cell_type": "code",
   "execution_count": 19,
   "metadata": {},
   "outputs": [],
   "source": [
    "df = pd.DataFrame(get_data(run_criteria))"
   ]
  },
  {
   "cell_type": "code",
   "execution_count": 20,
   "metadata": {},
   "outputs": [
    {
     "data": {
      "text/html": [
       "<div>\n",
       "<style scoped>\n",
       "    .dataframe tbody tr th:only-of-type {\n",
       "        vertical-align: middle;\n",
       "    }\n",
       "\n",
       "    .dataframe tbody tr th {\n",
       "        vertical-align: top;\n",
       "    }\n",
       "\n",
       "    .dataframe thead th {\n",
       "        text-align: right;\n",
       "    }\n",
       "</style>\n",
       "<table border=\"1\" class=\"dataframe\">\n",
       "  <thead>\n",
       "    <tr style=\"text-align: right;\">\n",
       "      <th></th>\n",
       "      <th>c2</th>\n",
       "      <th>final_f1(dev)</th>\n",
       "      <th>final_f1(train)</th>\n",
       "      <th>min_freq</th>\n",
       "      <th>run_id</th>\n",
       "      <th>use_prefix</th>\n",
       "      <th>use_suffix</th>\n",
       "      <th>use_wordshape</th>\n",
       "      <th>window</th>\n",
       "    </tr>\n",
       "  </thead>\n",
       "  <tbody>\n",
       "    <tr>\n",
       "      <th>0</th>\n",
       "      <td>0.010775</td>\n",
       "      <td>0.953605</td>\n",
       "      <td>0.962854</td>\n",
       "      <td>3</td>\n",
       "      <td>73</td>\n",
       "      <td>True</td>\n",
       "      <td>False</td>\n",
       "      <td>True</td>\n",
       "      <td>0</td>\n",
       "    </tr>\n",
       "    <tr>\n",
       "      <th>1</th>\n",
       "      <td>0.505165</td>\n",
       "      <td>0.941358</td>\n",
       "      <td>0.949741</td>\n",
       "      <td>5</td>\n",
       "      <td>74</td>\n",
       "      <td>False</td>\n",
       "      <td>True</td>\n",
       "      <td>False</td>\n",
       "      <td>0</td>\n",
       "    </tr>\n",
       "    <tr>\n",
       "      <th>2</th>\n",
       "      <td>0.361862</td>\n",
       "      <td>0.957621</td>\n",
       "      <td>0.996979</td>\n",
       "      <td>1</td>\n",
       "      <td>75</td>\n",
       "      <td>True</td>\n",
       "      <td>True</td>\n",
       "      <td>False</td>\n",
       "      <td>4</td>\n",
       "    </tr>\n",
       "    <tr>\n",
       "      <th>3</th>\n",
       "      <td>0.001021</td>\n",
       "      <td>0.950308</td>\n",
       "      <td>0.996845</td>\n",
       "      <td>4</td>\n",
       "      <td>76</td>\n",
       "      <td>True</td>\n",
       "      <td>True</td>\n",
       "      <td>False</td>\n",
       "      <td>5</td>\n",
       "    </tr>\n",
       "    <tr>\n",
       "      <th>4</th>\n",
       "      <td>0.819127</td>\n",
       "      <td>0.957711</td>\n",
       "      <td>0.976038</td>\n",
       "      <td>3</td>\n",
       "      <td>77</td>\n",
       "      <td>True</td>\n",
       "      <td>True</td>\n",
       "      <td>False</td>\n",
       "      <td>2</td>\n",
       "    </tr>\n",
       "  </tbody>\n",
       "</table>\n",
       "</div>"
      ],
      "text/plain": [
       "         c2  final_f1(dev)  final_f1(train)  min_freq  run_id  use_prefix  \\\n",
       "0  0.010775       0.953605         0.962854         3      73        True   \n",
       "1  0.505165       0.941358         0.949741         5      74       False   \n",
       "2  0.361862       0.957621         0.996979         1      75        True   \n",
       "3  0.001021       0.950308         0.996845         4      76        True   \n",
       "4  0.819127       0.957711         0.976038         3      77        True   \n",
       "\n",
       "   use_suffix  use_wordshape  window  \n",
       "0       False           True       0  \n",
       "1        True          False       0  \n",
       "2        True          False       4  \n",
       "3        True          False       5  \n",
       "4        True          False       2  "
      ]
     },
     "execution_count": 20,
     "metadata": {},
     "output_type": "execute_result"
    }
   ],
   "source": [
    "df.head()"
   ]
  },
  {
   "cell_type": "code",
   "execution_count": 21,
   "metadata": {},
   "outputs": [
    {
     "data": {
      "text/plain": [
       "c2                 0.169665\n",
       "final_f1(dev)      0.964613\n",
       "final_f1(train)    0.988525\n",
       "min_freq                  1\n",
       "run_id                   89\n",
       "use_prefix             True\n",
       "use_suffix             True\n",
       "use_wordshape         False\n",
       "window                    1\n",
       "Name: 16, dtype: object"
      ]
     },
     "execution_count": 21,
     "metadata": {},
     "output_type": "execute_result"
    }
   ],
   "source": [
    "df.iloc[df['final_f1(dev)'].idxmax()]"
   ]
  },
  {
   "cell_type": "markdown",
   "metadata": {},
   "source": [
    "### Fold 3"
   ]
  },
  {
   "cell_type": "code",
   "execution_count": 22,
   "metadata": {},
   "outputs": [
    {
     "data": {
      "text/plain": [
       "c2                 0.0151549\n",
       "final_f1(dev)       0.959867\n",
       "final_f1(train)     0.999276\n",
       "min_freq                   1\n",
       "run_id                   150\n",
       "use_prefix              True\n",
       "use_suffix              True\n",
       "use_wordshape          False\n",
       "window                     3\n",
       "Name: 27, dtype: object"
      ]
     },
     "execution_count": 22,
     "metadata": {},
     "output_type": "execute_result"
    }
   ],
   "source": [
    "run_criteria = {'experiment.name': 'id-pos-tagging-crf-fine-fold3', 'status': 'COMPLETED'}\n",
    "df = pd.DataFrame(get_data(run_criteria))\n",
    "df.iloc[df['final_f1(dev)'].idxmax()]"
   ]
  },
  {
   "cell_type": "markdown",
   "metadata": {},
   "source": [
    "### Fold 4"
   ]
  },
  {
   "cell_type": "code",
   "execution_count": 23,
   "metadata": {},
   "outputs": [
    {
     "data": {
      "text/plain": [
       "c2                 0.189562\n",
       "final_f1(dev)      0.963507\n",
       "final_f1(train)    0.991749\n",
       "min_freq                  1\n",
       "run_id                  205\n",
       "use_prefix             True\n",
       "use_suffix             True\n",
       "use_wordshape          True\n",
       "window                    2\n",
       "Name: 32, dtype: object"
      ]
     },
     "execution_count": 23,
     "metadata": {},
     "output_type": "execute_result"
    }
   ],
   "source": [
    "run_criteria = {'experiment.name': 'id-pos-tagging-crf-fine-fold4', 'status': 'COMPLETED'}\n",
    "df = pd.DataFrame(get_data(run_criteria))\n",
    "df.iloc[df['final_f1(dev)'].idxmax()]"
   ]
  },
  {
   "cell_type": "markdown",
   "metadata": {},
   "source": [
    "### Fold 5"
   ]
  },
  {
   "cell_type": "code",
   "execution_count": 24,
   "metadata": {},
   "outputs": [
    {
     "data": {
      "text/plain": [
       "c2                 0.00762765\n",
       "final_f1(dev)        0.963838\n",
       "final_f1(train)      0.986588\n",
       "min_freq                    2\n",
       "run_id                    234\n",
       "use_prefix               True\n",
       "use_suffix               True\n",
       "use_wordshape           False\n",
       "window                      1\n",
       "Name: 11, dtype: object"
      ]
     },
     "execution_count": 24,
     "metadata": {},
     "output_type": "execute_result"
    }
   ],
   "source": [
    "run_criteria = {'experiment.name': 'id-pos-tagging-crf-fine-fold5', 'status': 'COMPLETED'}\n",
    "df = pd.DataFrame(get_data(run_criteria))\n",
    "df.iloc[df['final_f1(dev)'].idxmax()]"
   ]
  }
 ],
 "metadata": {
  "kernelspec": {
   "display_name": "Python 3",
   "language": "python",
   "name": "python3"
  },
  "language_info": {
   "codemirror_mode": {
    "name": "ipython",
    "version": 3
   },
   "file_extension": ".py",
   "mimetype": "text/x-python",
   "name": "python",
   "nbconvert_exporter": "python",
   "pygments_lexer": "ipython3",
   "version": "3.6.5"
  }
 },
 "nbformat": 4,
 "nbformat_minor": 2
}
