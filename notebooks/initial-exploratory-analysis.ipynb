{
 "cells": [
  {
   "cell_type": "markdown",
   "metadata": {},
   "source": [
    "In this notebook, we're going to do an exploratory analysis. Specifically, we are interested in finding out the statistics about our entire datasets."
   ]
  },
  {
   "cell_type": "code",
   "execution_count": 11,
   "metadata": {},
   "outputs": [],
   "source": [
    "import sys\n",
    "sys.path.insert(0, '..')\n",
    "\n",
    "from collections import defaultdict\n",
    "from statistics import mean, median, stdev\n",
    "import os\n",
    "\n",
    "from utils import CorpusReader"
   ]
  },
  {
   "cell_type": "code",
   "execution_count": 6,
   "metadata": {},
   "outputs": [],
   "source": [
    "corpus_path = os.path.join('..', 'data', 'input', 'idn-tagged', 'Indonesian_Manually_Tagged_Corpus.tsv')"
   ]
  },
  {
   "cell_type": "code",
   "execution_count": 10,
   "metadata": {},
   "outputs": [],
   "source": [
    "reader = CorpusReader(corpus_path)\n",
    "\n",
    "n_sents, n_tokens = 0, []\n",
    "seen = set()\n",
    "tag_counter = defaultdict(int)\n",
    "\n",
    "for tagged_sent in reader.tagged_sents():\n",
    "    n_sents += 1\n",
    "    count = 0\n",
    "    for word, tag in tagged_sent:\n",
    "        count += 1\n",
    "        seen.add(word.lower())\n",
    "        tag_counter[tag] += 1\n",
    "    n_tokens.append(count)"
   ]
  },
  {
   "cell_type": "code",
   "execution_count": 13,
   "metadata": {},
   "outputs": [
    {
     "name": "stdout",
     "output_type": "stream",
     "text": [
      "Number of sentences: 10030\n",
      "Number of word tokens: 256622\n",
      "Number of word types: 16291\n",
      "Mean, median, and stdev of sentence length: 25.59, 25.0, 10.29\n",
      "Tag counts:\n",
      "NN => 61940\n",
      "SC => 13080\n",
      "VB => 31733\n",
      "NNP => 34649\n",
      "JJ => 9724\n",
      "RB => 4903\n",
      "IN => 21311\n",
      "Z => 26347\n",
      "CD => 17819\n",
      "CC => 7438\n",
      "PR => 5348\n",
      "PRP => 7583\n",
      "MD => 5248\n",
      "FW => 2366\n",
      "NEG => 1520\n",
      "DT => 381\n",
      "NND => 1414\n",
      "SYM => 2210\n",
      "RP => 183\n",
      "WH => 260\n",
      "OD => 738\n",
      "X => 397\n",
      "UH => 30\n"
     ]
    }
   ],
   "source": [
    "print('Number of sentences:', n_sents)\n",
    "print('Number of word tokens:', sum(n_tokens))\n",
    "print('Number of word types:', len(seen))\n",
    "print(f'Mean, median, and stdev of sentence length: {mean(n_tokens):.2f}, {median(n_tokens)}, {stdev(n_tokens):.2f}')\n",
    "print('Tag counts:')\n",
    "for tag, count in tag_counter.items():\n",
    "    print(tag, '=>', count)"
   ]
  },
  {
   "cell_type": "code",
   "execution_count": null,
   "metadata": {},
   "outputs": [],
   "source": []
  }
 ],
 "metadata": {
  "kernelspec": {
   "display_name": "Python 3",
   "language": "python",
   "name": "python3"
  },
  "language_info": {
   "codemirror_mode": {
    "name": "ipython",
    "version": 3
   },
   "file_extension": ".py",
   "mimetype": "text/x-python",
   "name": "python",
   "nbconvert_exporter": "python",
   "pygments_lexer": "ipython3",
   "version": "3.6.5"
  }
 },
 "nbformat": 4,
 "nbformat_minor": 2
}
