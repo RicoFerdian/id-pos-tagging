{
 "cells": [
  {
   "cell_type": "markdown",
   "metadata": {},
   "source": [
    "# Neural tagger fine-grained experiments analysis"
   ]
  },
  {
   "cell_type": "code",
   "execution_count": 1,
   "metadata": {},
   "outputs": [],
   "source": [
    "from collections import defaultdict\n",
    "import os\n",
    "import pprint\n",
    "\n",
    "from pymongo import MongoClient\n",
    "from scipy.stats import f_oneway, ttest_ind\n",
    "import matplotlib.pyplot as plt\n",
    "import numpy as np\n",
    "import pandas as pd\n",
    "\n",
    "plt.style.use('ggplot')\n",
    "\n",
    "%matplotlib inline"
   ]
  },
  {
   "cell_type": "code",
   "execution_count": 2,
   "metadata": {},
   "outputs": [],
   "source": [
    "client = MongoClient(os.environ['SACRED_MONGO_URL'])\n",
    "db = client[os.environ['SACRED_DB_NAME']]"
   ]
  },
  {
   "cell_type": "markdown",
   "metadata": {},
   "source": [
    "## Best configuration"
   ]
  },
  {
   "cell_type": "code",
   "execution_count": 3,
   "metadata": {},
   "outputs": [],
   "source": [
    "def get_data(run_criteria):\n",
    "    if 'status' not in run_criteria:\n",
    "        run_criteria['status'] = 'COMPLETED'\n",
    "\n",
    "    data = defaultdict(list)\n",
    "    for run in db.runs.find(run_criteria):\n",
    "        data['run_id'].append(run['_id'])\n",
    "\n",
    "        for conf in 'seed use_prefix use_suffix use_crf use_lstm window use_chars filter_width lr dropout'.split():\n",
    "            data[conf].append(run['config'][conf])\n",
    "\n",
    "        data['f1'].append(run['result'])\n",
    "    return data"
   ]
  },
  {
   "cell_type": "markdown",
   "metadata": {},
   "source": [
    "### Fold 1"
   ]
  },
  {
   "cell_type": "code",
   "execution_count": 4,
   "metadata": {},
   "outputs": [
    {
     "data": {
      "text/plain": [
       "296"
      ]
     },
     "execution_count": 4,
     "metadata": {},
     "output_type": "execute_result"
    }
   ],
   "source": [
    "db.runs.count({\n",
    "    'experiment.name': 'id-pos-tagging-neural-fine',\n",
    "    'meta.command': 'evaluate',\n",
    "    'config.eval.which': 'dev',\n",
    "    'config.corpus.dev': {'$regex': r'01.tsv$'},\n",
    "})"
   ]
  },
  {
   "cell_type": "code",
   "execution_count": 5,
   "metadata": {},
   "outputs": [],
   "source": [
    "run_criteria = {\n",
    "    'experiment.name': 'id-pos-tagging-neural-fine',\n",
    "    'meta.command': 'evaluate',\n",
    "    'config.eval.which': 'dev',\n",
    "    'config.corpus.dev': {'$regex': r'01.tsv$'},\n",
    "}"
   ]
  },
  {
   "cell_type": "code",
   "execution_count": 6,
   "metadata": {},
   "outputs": [
    {
     "data": {
      "text/plain": [
       "296"
      ]
     },
     "execution_count": 6,
     "metadata": {},
     "output_type": "execute_result"
    }
   ],
   "source": [
    "df = pd.DataFrame(get_data(run_criteria))\n",
    "len(df)"
   ]
  },
  {
   "cell_type": "code",
   "execution_count": 7,
   "metadata": {},
   "outputs": [
    {
     "data": {
      "text/html": [
       "<div>\n",
       "<style scoped>\n",
       "    .dataframe tbody tr th:only-of-type {\n",
       "        vertical-align: middle;\n",
       "    }\n",
       "\n",
       "    .dataframe tbody tr th {\n",
       "        vertical-align: top;\n",
       "    }\n",
       "\n",
       "    .dataframe thead th {\n",
       "        text-align: right;\n",
       "    }\n",
       "</style>\n",
       "<table border=\"1\" class=\"dataframe\">\n",
       "  <thead>\n",
       "    <tr style=\"text-align: right;\">\n",
       "      <th></th>\n",
       "      <th>dropout</th>\n",
       "      <th>f1</th>\n",
       "      <th>filter_width</th>\n",
       "      <th>lr</th>\n",
       "      <th>run_id</th>\n",
       "      <th>seed</th>\n",
       "      <th>use_chars</th>\n",
       "      <th>use_crf</th>\n",
       "      <th>use_lstm</th>\n",
       "      <th>use_prefix</th>\n",
       "      <th>use_suffix</th>\n",
       "      <th>window</th>\n",
       "    </tr>\n",
       "  </thead>\n",
       "  <tbody>\n",
       "    <tr>\n",
       "      <th>0</th>\n",
       "      <td>0.634423</td>\n",
       "      <td>0.204581</td>\n",
       "      <td>5</td>\n",
       "      <td>0.069038</td>\n",
       "      <td>2671</td>\n",
       "      <td>34012962</td>\n",
       "      <td>False</td>\n",
       "      <td>False</td>\n",
       "      <td>True</td>\n",
       "      <td>False</td>\n",
       "      <td>False</td>\n",
       "      <td>0</td>\n",
       "    </tr>\n",
       "    <tr>\n",
       "      <th>1</th>\n",
       "      <td>0.132102</td>\n",
       "      <td>0.960026</td>\n",
       "      <td>3</td>\n",
       "      <td>0.009473</td>\n",
       "      <td>2672</td>\n",
       "      <td>571105080</td>\n",
       "      <td>False</td>\n",
       "      <td>False</td>\n",
       "      <td>False</td>\n",
       "      <td>True</td>\n",
       "      <td>False</td>\n",
       "      <td>2</td>\n",
       "    </tr>\n",
       "    <tr>\n",
       "      <th>2</th>\n",
       "      <td>0.258507</td>\n",
       "      <td>0.947309</td>\n",
       "      <td>4</td>\n",
       "      <td>0.018101</td>\n",
       "      <td>2673</td>\n",
       "      <td>837000391</td>\n",
       "      <td>False</td>\n",
       "      <td>False</td>\n",
       "      <td>False</td>\n",
       "      <td>True</td>\n",
       "      <td>True</td>\n",
       "      <td>0</td>\n",
       "    </tr>\n",
       "    <tr>\n",
       "      <th>3</th>\n",
       "      <td>0.224828</td>\n",
       "      <td>0.960910</td>\n",
       "      <td>5</td>\n",
       "      <td>0.006293</td>\n",
       "      <td>2674</td>\n",
       "      <td>480179107</td>\n",
       "      <td>False</td>\n",
       "      <td>False</td>\n",
       "      <td>False</td>\n",
       "      <td>True</td>\n",
       "      <td>False</td>\n",
       "      <td>4</td>\n",
       "    </tr>\n",
       "    <tr>\n",
       "      <th>4</th>\n",
       "      <td>0.582626</td>\n",
       "      <td>0.942911</td>\n",
       "      <td>5</td>\n",
       "      <td>0.012868</td>\n",
       "      <td>2675</td>\n",
       "      <td>377777196</td>\n",
       "      <td>False</td>\n",
       "      <td>False</td>\n",
       "      <td>False</td>\n",
       "      <td>True</td>\n",
       "      <td>False</td>\n",
       "      <td>0</td>\n",
       "    </tr>\n",
       "  </tbody>\n",
       "</table>\n",
       "</div>"
      ],
      "text/plain": [
       "    dropout        f1  filter_width        lr  run_id       seed  use_chars  \\\n",
       "0  0.634423  0.204581             5  0.069038    2671   34012962      False   \n",
       "1  0.132102  0.960026             3  0.009473    2672  571105080      False   \n",
       "2  0.258507  0.947309             4  0.018101    2673  837000391      False   \n",
       "3  0.224828  0.960910             5  0.006293    2674  480179107      False   \n",
       "4  0.582626  0.942911             5  0.012868    2675  377777196      False   \n",
       "\n",
       "   use_crf  use_lstm  use_prefix  use_suffix  window  \n",
       "0    False      True       False       False       0  \n",
       "1    False     False        True       False       2  \n",
       "2    False     False        True        True       0  \n",
       "3    False     False        True       False       4  \n",
       "4    False     False        True       False       0  "
      ]
     },
     "execution_count": 7,
     "metadata": {},
     "output_type": "execute_result"
    }
   ],
   "source": [
    "df.head()"
   ]
  },
  {
   "cell_type": "code",
   "execution_count": 8,
   "metadata": {},
   "outputs": [
    {
     "data": {
      "text/plain": [
       "dropout           0.256525\n",
       "f1                0.976301\n",
       "filter_width             5\n",
       "lr              0.00481577\n",
       "run_id                2885\n",
       "seed              38882601\n",
       "use_chars             True\n",
       "use_crf               True\n",
       "use_lstm              True\n",
       "use_prefix            True\n",
       "use_suffix            True\n",
       "window                   0\n",
       "Name: 122, dtype: object"
      ]
     },
     "execution_count": 8,
     "metadata": {},
     "output_type": "execute_result"
    }
   ],
   "source": [
    "df.iloc[df['f1'].idxmax()]"
   ]
  },
  {
   "cell_type": "markdown",
   "metadata": {},
   "source": [
    "### Fold 2"
   ]
  },
  {
   "cell_type": "markdown",
   "metadata": {},
   "source": [
    "TBD"
   ]
  },
  {
   "cell_type": "markdown",
   "metadata": {},
   "source": [
    "### Fold 3"
   ]
  },
  {
   "cell_type": "markdown",
   "metadata": {},
   "source": [
    "TBD"
   ]
  },
  {
   "cell_type": "markdown",
   "metadata": {},
   "source": [
    "### Fold 4"
   ]
  },
  {
   "cell_type": "markdown",
   "metadata": {},
   "source": [
    "TBD"
   ]
  },
  {
   "cell_type": "markdown",
   "metadata": {},
   "source": [
    "### Fold 5"
   ]
  },
  {
   "cell_type": "markdown",
   "metadata": {},
   "source": [
    "TBD"
   ]
  },
  {
   "cell_type": "markdown",
   "metadata": {},
   "source": [
    "## Features analysis on fold 1"
   ]
  },
  {
   "cell_type": "code",
   "execution_count": 9,
   "metadata": {},
   "outputs": [],
   "source": [
    "run_criteria = {\n",
    "    'experiment.name': 'id-pos-tagging-neural-fine',\n",
    "    'meta.command': 'evaluate',\n",
    "    'config.eval.which': 'dev',\n",
    "    'config.corpus.dev': {'$regex': r'01.tsv$'},\n",
    "}"
   ]
  },
  {
   "cell_type": "code",
   "execution_count": 10,
   "metadata": {},
   "outputs": [
    {
     "data": {
      "text/plain": [
       "296"
      ]
     },
     "execution_count": 10,
     "metadata": {},
     "output_type": "execute_result"
    }
   ],
   "source": [
    "df = pd.DataFrame(get_data(run_criteria))\n",
    "len(df)"
   ]
  },
  {
   "cell_type": "code",
   "execution_count": 11,
   "metadata": {},
   "outputs": [
    {
     "data": {
      "text/html": [
       "<div>\n",
       "<style scoped>\n",
       "    .dataframe tbody tr th:only-of-type {\n",
       "        vertical-align: middle;\n",
       "    }\n",
       "\n",
       "    .dataframe tbody tr th {\n",
       "        vertical-align: top;\n",
       "    }\n",
       "\n",
       "    .dataframe thead th {\n",
       "        text-align: right;\n",
       "    }\n",
       "</style>\n",
       "<table border=\"1\" class=\"dataframe\">\n",
       "  <thead>\n",
       "    <tr style=\"text-align: right;\">\n",
       "      <th></th>\n",
       "      <th>dropout</th>\n",
       "      <th>f1</th>\n",
       "      <th>filter_width</th>\n",
       "      <th>lr</th>\n",
       "      <th>run_id</th>\n",
       "      <th>seed</th>\n",
       "      <th>use_chars</th>\n",
       "      <th>use_crf</th>\n",
       "      <th>use_lstm</th>\n",
       "      <th>use_prefix</th>\n",
       "      <th>use_suffix</th>\n",
       "      <th>window</th>\n",
       "    </tr>\n",
       "  </thead>\n",
       "  <tbody>\n",
       "    <tr>\n",
       "      <th>0</th>\n",
       "      <td>0.634423</td>\n",
       "      <td>0.204581</td>\n",
       "      <td>5</td>\n",
       "      <td>0.069038</td>\n",
       "      <td>2671</td>\n",
       "      <td>34012962</td>\n",
       "      <td>False</td>\n",
       "      <td>False</td>\n",
       "      <td>True</td>\n",
       "      <td>False</td>\n",
       "      <td>False</td>\n",
       "      <td>0</td>\n",
       "    </tr>\n",
       "    <tr>\n",
       "      <th>1</th>\n",
       "      <td>0.132102</td>\n",
       "      <td>0.960026</td>\n",
       "      <td>3</td>\n",
       "      <td>0.009473</td>\n",
       "      <td>2672</td>\n",
       "      <td>571105080</td>\n",
       "      <td>False</td>\n",
       "      <td>False</td>\n",
       "      <td>False</td>\n",
       "      <td>True</td>\n",
       "      <td>False</td>\n",
       "      <td>2</td>\n",
       "    </tr>\n",
       "    <tr>\n",
       "      <th>2</th>\n",
       "      <td>0.258507</td>\n",
       "      <td>0.947309</td>\n",
       "      <td>4</td>\n",
       "      <td>0.018101</td>\n",
       "      <td>2673</td>\n",
       "      <td>837000391</td>\n",
       "      <td>False</td>\n",
       "      <td>False</td>\n",
       "      <td>False</td>\n",
       "      <td>True</td>\n",
       "      <td>True</td>\n",
       "      <td>0</td>\n",
       "    </tr>\n",
       "    <tr>\n",
       "      <th>3</th>\n",
       "      <td>0.224828</td>\n",
       "      <td>0.960910</td>\n",
       "      <td>5</td>\n",
       "      <td>0.006293</td>\n",
       "      <td>2674</td>\n",
       "      <td>480179107</td>\n",
       "      <td>False</td>\n",
       "      <td>False</td>\n",
       "      <td>False</td>\n",
       "      <td>True</td>\n",
       "      <td>False</td>\n",
       "      <td>4</td>\n",
       "    </tr>\n",
       "    <tr>\n",
       "      <th>4</th>\n",
       "      <td>0.582626</td>\n",
       "      <td>0.942911</td>\n",
       "      <td>5</td>\n",
       "      <td>0.012868</td>\n",
       "      <td>2675</td>\n",
       "      <td>377777196</td>\n",
       "      <td>False</td>\n",
       "      <td>False</td>\n",
       "      <td>False</td>\n",
       "      <td>True</td>\n",
       "      <td>False</td>\n",
       "      <td>0</td>\n",
       "    </tr>\n",
       "  </tbody>\n",
       "</table>\n",
       "</div>"
      ],
      "text/plain": [
       "    dropout        f1  filter_width        lr  run_id       seed  use_chars  \\\n",
       "0  0.634423  0.204581             5  0.069038    2671   34012962      False   \n",
       "1  0.132102  0.960026             3  0.009473    2672  571105080      False   \n",
       "2  0.258507  0.947309             4  0.018101    2673  837000391      False   \n",
       "3  0.224828  0.960910             5  0.006293    2674  480179107      False   \n",
       "4  0.582626  0.942911             5  0.012868    2675  377777196      False   \n",
       "\n",
       "   use_crf  use_lstm  use_prefix  use_suffix  window  \n",
       "0    False      True       False       False       0  \n",
       "1    False     False        True       False       2  \n",
       "2    False     False        True        True       0  \n",
       "3    False     False        True       False       4  \n",
       "4    False     False        True       False       0  "
      ]
     },
     "execution_count": 11,
     "metadata": {},
     "output_type": "execute_result"
    }
   ],
   "source": [
    "df.head()"
   ]
  },
  {
   "cell_type": "markdown",
   "metadata": {},
   "source": [
    "### Feedforward"
   ]
  },
  {
   "cell_type": "code",
   "execution_count": 12,
   "metadata": {},
   "outputs": [
    {
     "data": {
      "text/plain": [
       "72"
      ]
     },
     "execution_count": 12,
     "metadata": {},
     "output_type": "execute_result"
    }
   ],
   "source": [
    "df_ff = df[(~df.use_lstm) & (~df.use_crf)]\n",
    "len(df_ff)"
   ]
  },
  {
   "cell_type": "markdown",
   "metadata": {},
   "source": [
    "#### Binary features"
   ]
  },
  {
   "cell_type": "markdown",
   "metadata": {},
   "source": [
    "##### use_prefix"
   ]
  },
  {
   "cell_type": "code",
   "execution_count": 13,
   "metadata": {},
   "outputs": [
    {
     "data": {
      "text/plain": [
       "<matplotlib.axes._subplots.AxesSubplot at 0x10534eb00>"
      ]
     },
     "execution_count": 13,
     "metadata": {},
     "output_type": "execute_result"
    },
    {
     "data": {
      "image/png": "[encoded data removed]",
      "text/plain": [
       "<Figure size 864x576 with 1 Axes>"
      ]
     },
     "metadata": {},
     "output_type": "display_data"
    }
   ],
   "source": [
    "df_ff.boxplot(column='f1', by='use_prefix', figsize=(12, 8))"
   ]
  },
  {
   "cell_type": "code",
   "execution_count": 14,
   "metadata": {},
   "outputs": [
    {
     "data": {
      "text/plain": [
       "Ttest_indResult(statistic=1.7321557357824118, pvalue=0.08765031658430864)"
      ]
     },
     "execution_count": 14,
     "metadata": {},
     "output_type": "execute_result"
    }
   ],
   "source": [
    "ttest_ind(df_ff[df_ff.use_prefix]['f1'], df_ff[~df_ff.use_prefix]['f1'])"
   ]
  },
  {
   "cell_type": "markdown",
   "metadata": {},
   "source": [
    "The p-value is larger than 0.05, so we accept the null hypothesis: there does not seem a significant difference between using and not using prefixes. However, we conjecture that this is because of the character features. `use_prefix` might be significant when character features are not used. Let's see."
   ]
  },
  {
   "cell_type": "code",
   "execution_count": 17,
   "metadata": {},
   "outputs": [
    {
     "data": {
      "text/plain": [
       "41"
      ]
     },
     "execution_count": 17,
     "metadata": {},
     "output_type": "execute_result"
    }
   ],
   "source": [
    "len(df_ff[~df_ff.use_chars])"
   ]
  },
  {
   "cell_type": "code",
   "execution_count": 15,
   "metadata": {},
   "outputs": [
    {
     "data": {
      "text/plain": [
       "<matplotlib.axes._subplots.AxesSubplot at 0x1097cd748>"
      ]
     },
     "execution_count": 15,
     "metadata": {},
     "output_type": "execute_result"
    },
    {
     "data": {
      "image/png": "[encoded data removed]",
      "text/plain": [
       "<Figure size 864x576 with 1 Axes>"
      ]
     },
     "metadata": {},
     "output_type": "display_data"
    }
   ],
   "source": [
    "df_ff[~df_ff.use_chars].boxplot(column='f1', by='use_prefix', figsize=(12, 8))"
   ]
  },
  {
   "cell_type": "code",
   "execution_count": 16,
   "metadata": {},
   "outputs": [
    {
     "data": {
      "text/plain": [
       "Ttest_indResult(statistic=1.4513627296489326, pvalue=0.15467593864286636)"
      ]
     },
     "execution_count": 16,
     "metadata": {},
     "output_type": "execute_result"
    }
   ],
   "source": [
    "ttest_ind(df_ff[(~df_ff.use_chars) & (df_ff.use_prefix)]['f1'], df_ff[(~df_ff.use_chars) & (~df_ff.use_prefix)]['f1'])"
   ]
  },
  {
   "cell_type": "markdown",
   "metadata": {},
   "source": [
    "The p-value is still high, so it seems we have to accept the null hypothesis that `use_prefix` is not really significant, even when no character features are used."
   ]
  },
  {
   "cell_type": "markdown",
   "metadata": {},
   "source": [
    "##### use_suffix"
   ]
  },
  {
   "cell_type": "code",
   "execution_count": 18,
   "metadata": {},
   "outputs": [
    {
     "data": {
      "text/plain": [
       "<matplotlib.axes._subplots.AxesSubplot at 0x109b92470>"
      ]
     },
     "execution_count": 18,
     "metadata": {},
     "output_type": "execute_result"
    },
    {
     "data": {
      "image/png": "[encoded data removed]",
      "text/plain": [
       "<Figure size 864x576 with 1 Axes>"
      ]
     },
     "metadata": {},
     "output_type": "display_data"
    }
   ],
   "source": [
    "df_ff.boxplot(column='f1', by='use_suffix', figsize=(12, 8))"
   ]
  },
  {
   "cell_type": "code",
   "execution_count": 19,
   "metadata": {},
   "outputs": [
    {
     "data": {
      "text/plain": [
       "Ttest_indResult(statistic=0.27264557911568466, pvalue=0.7859283556747924)"
      ]
     },
     "execution_count": 19,
     "metadata": {},
     "output_type": "execute_result"
    }
   ],
   "source": [
    "ttest_ind(df_ff[df_ff.use_suffix]['f1'], df_ff[~df_ff.use_suffix]['f1'])"
   ]
  },
  {
   "cell_type": "markdown",
   "metadata": {},
   "source": [
    "The p-value is large. Accept null hypothesis. Let's see when characters are not used."
   ]
  },
  {
   "cell_type": "code",
   "execution_count": 20,
   "metadata": {},
   "outputs": [
    {
     "data": {
      "text/plain": [
       "41"
      ]
     },
     "execution_count": 20,
     "metadata": {},
     "output_type": "execute_result"
    }
   ],
   "source": [
    "len(df_ff[~df_ff.use_chars])"
   ]
  },
  {
   "cell_type": "code",
   "execution_count": 21,
   "metadata": {},
   "outputs": [
    {
     "data": {
      "text/plain": [
       "<matplotlib.axes._subplots.AxesSubplot at 0x1062fb8d0>"
      ]
     },
     "execution_count": 21,
     "metadata": {},
     "output_type": "execute_result"
    },
    {
     "data": {
      "image/png": "[encoded data removed]",
      "text/plain": [
       "<Figure size 864x576 with 1 Axes>"
      ]
     },
     "metadata": {},
     "output_type": "display_data"
    }
   ],
   "source": [
    "df_ff[~df_ff.use_chars].boxplot(column='f1', by='use_suffix', figsize=(12, 8))"
   ]
  },
  {
   "cell_type": "code",
   "execution_count": 22,
   "metadata": {},
   "outputs": [
    {
     "data": {
      "text/plain": [
       "Ttest_indResult(statistic=0.2518142492876432, pvalue=0.8025069225845362)"
      ]
     },
     "execution_count": 22,
     "metadata": {},
     "output_type": "execute_result"
    }
   ],
   "source": [
    "ttest_ind(df_ff[(~df_ff.use_chars) & (df_ff.use_suffix)]['f1'], df_ff[(~df_ff.use_chars) & (~df_ff.use_suffix)]['f1'])"
   ]
  },
  {
   "cell_type": "markdown",
   "metadata": {},
   "source": [
    "The p-value is still large, so we accept the null hypothesis."
   ]
  },
  {
   "cell_type": "markdown",
   "metadata": {},
   "source": [
    "##### use_chars"
   ]
  },
  {
   "cell_type": "code",
   "execution_count": 29,
   "metadata": {},
   "outputs": [
    {
     "data": {
      "text/plain": [
       "<matplotlib.axes._subplots.AxesSubplot at 0x10b2184e0>"
      ]
     },
     "execution_count": 29,
     "metadata": {},
     "output_type": "execute_result"
    },
    {
     "data": {
      "image/png": "[encoded data removed]",
      "text/plain": [
       "<Figure size 864x576 with 1 Axes>"
      ]
     },
     "metadata": {},
     "output_type": "display_data"
    }
   ],
   "source": [
    "df_ff.boxplot(column='f1', by='use_chars', figsize=(12, 8))"
   ]
  },
  {
   "cell_type": "markdown",
   "metadata": {},
   "source": [
    "It seems clear that `use_chars=True` is better than `use_chars=False`."
   ]
  },
  {
   "cell_type": "markdown",
   "metadata": {},
   "source": [
    "#### Multinomial variables"
   ]
  },
  {
   "cell_type": "markdown",
   "metadata": {},
   "source": [
    "##### window"
   ]
  },
  {
   "cell_type": "code",
   "execution_count": 24,
   "metadata": {},
   "outputs": [
    {
     "data": {
      "text/plain": [
       "<matplotlib.axes._subplots.AxesSubplot at 0x109f33208>"
      ]
     },
     "execution_count": 24,
     "metadata": {},
     "output_type": "execute_result"
    },
    {
     "data": {
      "image/png": "[encoded data removed]",
      "text/plain": [
       "<Figure size 864x576 with 1 Axes>"
      ]
     },
     "metadata": {},
     "output_type": "display_data"
    }
   ],
   "source": [
    "df_ff.boxplot(column='f1', by='window', figsize=(12, 8))"
   ]
  },
  {
   "cell_type": "markdown",
   "metadata": {},
   "source": [
    "We see that it seems `window=0` yields lower F1 score in general, while the other values yield somewhat on par F1 score. Let's exclude `window=0` and perform a test to see if there's significant differences among the others."
   ]
  },
  {
   "cell_type": "code",
   "execution_count": 25,
   "metadata": {},
   "outputs": [],
   "source": [
    "samples = []\n",
    "for window in range(1, 5):\n",
    "    samples.append(df_ff[df_ff.window == window]['f1'])"
   ]
  },
  {
   "cell_type": "code",
   "execution_count": 26,
   "metadata": {},
   "outputs": [
    {
     "data": {
      "text/plain": [
       "F_onewayResult(statistic=0.9407470444997383, pvalue=0.4278791187054434)"
      ]
     },
     "execution_count": 26,
     "metadata": {},
     "output_type": "execute_result"
    }
   ],
   "source": [
    "f_oneway(*samples)"
   ]
  },
  {
   "cell_type": "markdown",
   "metadata": {},
   "source": [
    "The p-value is very large, so we accept the null hypothesis."
   ]
  },
  {
   "cell_type": "markdown",
   "metadata": {},
   "source": [
    "##### filter_width"
   ]
  },
  {
   "cell_type": "markdown",
   "metadata": {},
   "source": [
    "This config only makes sense when `use_chars=True`, so let's filter that."
   ]
  },
  {
   "cell_type": "code",
   "execution_count": 27,
   "metadata": {},
   "outputs": [
    {
     "data": {
      "text/plain": [
       "<matplotlib.axes._subplots.AxesSubplot at 0x107caceb8>"
      ]
     },
     "execution_count": 27,
     "metadata": {},
     "output_type": "execute_result"
    },
    {
     "data": {
      "image/png": "[encoded data removed]",
      "text/plain": [
       "<Figure size 864x576 with 1 Axes>"
      ]
     },
     "metadata": {},
     "output_type": "display_data"
    }
   ],
   "source": [
    "df_ff[df_ff.use_chars].boxplot(column='f1', by='filter_width', figsize=(12, 8))"
   ]
  },
  {
   "cell_type": "markdown",
   "metadata": {},
   "source": [
    "From this plot, it seems `filter_width=4` yields the best F1 score in general. This is somewhat surprising because affixes in Indonesian usually have 2 or 3 characters, so we expect the best filter width would be 2 or 3 as well since it may capture affixes. However, this does not seem the case. The character embedding model might be capturing something else."
   ]
  },
  {
   "cell_type": "markdown",
   "metadata": {},
   "source": [
    "#### Continuous variables"
   ]
  },
  {
   "cell_type": "markdown",
   "metadata": {},
   "source": [
    "##### lr"
   ]
  },
  {
   "cell_type": "code",
   "execution_count": 28,
   "metadata": {},
   "outputs": [
    {
     "name": "stderr",
     "output_type": "stream",
     "text": [
      "/Users/kemal/.pyenv/versions/miniconda3-latest/envs/id-pos-tagging/lib/python3.6/site-packages/ipykernel_launcher.py:1: SettingWithCopyWarning: \n",
      "A value is trying to be set on a copy of a slice from a DataFrame.\n",
      "Try using .loc[row_indexer,col_indexer] = value instead\n",
      "\n",
      "See the caveats in the documentation: http://pandas.pydata.org/pandas-docs/stable/indexing.html#indexing-view-versus-copy\n",
      "  \"\"\"Entry point for launching an IPython kernel.\n"
     ]
    }
   ],
   "source": [
    "df_ff['log10_lr'] = np.log10(df_ff.lr)"
   ]
  },
  {
   "cell_type": "code",
   "execution_count": 29,
   "metadata": {},
   "outputs": [
    {
     "data": {
      "text/html": [
       "<div>\n",
       "<style scoped>\n",
       "    .dataframe tbody tr th:only-of-type {\n",
       "        vertical-align: middle;\n",
       "    }\n",
       "\n",
       "    .dataframe tbody tr th {\n",
       "        vertical-align: top;\n",
       "    }\n",
       "\n",
       "    .dataframe thead th {\n",
       "        text-align: right;\n",
       "    }\n",
       "</style>\n",
       "<table border=\"1\" class=\"dataframe\">\n",
       "  <thead>\n",
       "    <tr style=\"text-align: right;\">\n",
       "      <th></th>\n",
       "      <th>dropout</th>\n",
       "      <th>f1</th>\n",
       "      <th>filter_width</th>\n",
       "      <th>lr</th>\n",
       "      <th>run_id</th>\n",
       "      <th>seed</th>\n",
       "      <th>use_chars</th>\n",
       "      <th>use_crf</th>\n",
       "      <th>use_lstm</th>\n",
       "      <th>use_prefix</th>\n",
       "      <th>use_suffix</th>\n",
       "      <th>window</th>\n",
       "      <th>log10_lr</th>\n",
       "    </tr>\n",
       "  </thead>\n",
       "  <tbody>\n",
       "    <tr>\n",
       "      <th>1</th>\n",
       "      <td>0.132102</td>\n",
       "      <td>0.960026</td>\n",
       "      <td>3</td>\n",
       "      <td>0.009473</td>\n",
       "      <td>2672</td>\n",
       "      <td>571105080</td>\n",
       "      <td>False</td>\n",
       "      <td>False</td>\n",
       "      <td>False</td>\n",
       "      <td>True</td>\n",
       "      <td>False</td>\n",
       "      <td>2</td>\n",
       "      <td>-2.023496</td>\n",
       "    </tr>\n",
       "    <tr>\n",
       "      <th>2</th>\n",
       "      <td>0.258507</td>\n",
       "      <td>0.947309</td>\n",
       "      <td>4</td>\n",
       "      <td>0.018101</td>\n",
       "      <td>2673</td>\n",
       "      <td>837000391</td>\n",
       "      <td>False</td>\n",
       "      <td>False</td>\n",
       "      <td>False</td>\n",
       "      <td>True</td>\n",
       "      <td>True</td>\n",
       "      <td>0</td>\n",
       "      <td>-1.742296</td>\n",
       "    </tr>\n",
       "    <tr>\n",
       "      <th>3</th>\n",
       "      <td>0.224828</td>\n",
       "      <td>0.960910</td>\n",
       "      <td>5</td>\n",
       "      <td>0.006293</td>\n",
       "      <td>2674</td>\n",
       "      <td>480179107</td>\n",
       "      <td>False</td>\n",
       "      <td>False</td>\n",
       "      <td>False</td>\n",
       "      <td>True</td>\n",
       "      <td>False</td>\n",
       "      <td>4</td>\n",
       "      <td>-2.201169</td>\n",
       "    </tr>\n",
       "    <tr>\n",
       "      <th>4</th>\n",
       "      <td>0.582626</td>\n",
       "      <td>0.942911</td>\n",
       "      <td>5</td>\n",
       "      <td>0.012868</td>\n",
       "      <td>2675</td>\n",
       "      <td>377777196</td>\n",
       "      <td>False</td>\n",
       "      <td>False</td>\n",
       "      <td>False</td>\n",
       "      <td>True</td>\n",
       "      <td>False</td>\n",
       "      <td>0</td>\n",
       "      <td>-1.890475</td>\n",
       "    </tr>\n",
       "    <tr>\n",
       "      <th>6</th>\n",
       "      <td>0.214168</td>\n",
       "      <td>0.961152</td>\n",
       "      <td>1</td>\n",
       "      <td>0.039620</td>\n",
       "      <td>2677</td>\n",
       "      <td>989740547</td>\n",
       "      <td>False</td>\n",
       "      <td>False</td>\n",
       "      <td>False</td>\n",
       "      <td>True</td>\n",
       "      <td>True</td>\n",
       "      <td>3</td>\n",
       "      <td>-1.402091</td>\n",
       "    </tr>\n",
       "  </tbody>\n",
       "</table>\n",
       "</div>"
      ],
      "text/plain": [
       "    dropout        f1  filter_width        lr  run_id       seed  use_chars  \\\n",
       "1  0.132102  0.960026             3  0.009473    2672  571105080      False   \n",
       "2  0.258507  0.947309             4  0.018101    2673  837000391      False   \n",
       "3  0.224828  0.960910             5  0.006293    2674  480179107      False   \n",
       "4  0.582626  0.942911             5  0.012868    2675  377777196      False   \n",
       "6  0.214168  0.961152             1  0.039620    2677  989740547      False   \n",
       "\n",
       "   use_crf  use_lstm  use_prefix  use_suffix  window  log10_lr  \n",
       "1    False     False        True       False       2 -2.023496  \n",
       "2    False     False        True        True       0 -1.742296  \n",
       "3    False     False        True       False       4 -2.201169  \n",
       "4    False     False        True       False       0 -1.890475  \n",
       "6    False     False        True        True       3 -1.402091  "
      ]
     },
     "execution_count": 29,
     "metadata": {},
     "output_type": "execute_result"
    }
   ],
   "source": [
    "df_ff.head()"
   ]
  },
  {
   "cell_type": "code",
   "execution_count": 30,
   "metadata": {},
   "outputs": [
    {
     "data": {
      "text/plain": [
       "<matplotlib.axes._subplots.AxesSubplot at 0x107ca2be0>"
      ]
     },
     "execution_count": 30,
     "metadata": {},
     "output_type": "execute_result"
    },
    {
     "data": {
      "image/png": "[encoded data removed]",
      "text/plain": [
       "<Figure size 432x288 with 1 Axes>"
      ]
     },
     "metadata": {},
     "output_type": "display_data"
    }
   ],
   "source": [
    "df_ff.plot.scatter(x='log10_lr', y='f1')"
   ]
  },
  {
   "cell_type": "markdown",
   "metadata": {},
   "source": [
    "There does not seem any linear trend between the learning rate and F1 score. However, from the plot we see that when `log10_lr` is between -2.5 and -2, the F1 score never goes much lower than 0.96."
   ]
  },
  {
   "cell_type": "markdown",
   "metadata": {},
   "source": [
    "##### dropout"
   ]
  },
  {
   "cell_type": "code",
   "execution_count": 31,
   "metadata": {},
   "outputs": [
    {
     "data": {
      "text/plain": [
       "<matplotlib.axes._subplots.AxesSubplot at 0x107ca2dd8>"
      ]
     },
     "execution_count": 31,
     "metadata": {},
     "output_type": "execute_result"
    },
    {
     "data": {
      "image/png": "[encoded data removed]",
      "text/plain": [
       "<Figure size 432x288 with 1 Axes>"
      ]
     },
     "metadata": {},
     "output_type": "display_data"
    }
   ],
   "source": [
    "df_ff.plot.scatter(x='dropout', y='f1')"
   ]
  },
  {
   "cell_type": "markdown",
   "metadata": {},
   "source": [
    "There does not seem a clear trend. However, when dropout is between 0.35 and 0.55, the F1 score never goes much lower than 0.96."
   ]
  },
  {
   "cell_type": "markdown",
   "metadata": {},
   "source": [
    "#### Conclusion"
   ]
  },
  {
   "cell_type": "markdown",
   "metadata": {},
   "source": [
    "- Prefixes are not significant\n",
    "- Suffixes are not significant\n",
    "- Characters are significant\n",
    "- Window size greater than 0 are all comparable\n",
    "- Best filter width is 4\n",
    "- Best range for the power of learning rate is -2.5 to -2\n",
    "- Best range for dropout is between 0.35 and 0.55."
   ]
  },
  {
   "cell_type": "markdown",
   "metadata": {},
   "source": [
    "### Feedforward + CRF"
   ]
  },
  {
   "cell_type": "code",
   "execution_count": 32,
   "metadata": {},
   "outputs": [
    {
     "data": {
      "text/plain": [
       "86"
      ]
     },
     "execution_count": 32,
     "metadata": {},
     "output_type": "execute_result"
    }
   ],
   "source": [
    "df_ff_crf = df[(~df.use_lstm) & (df.use_crf)]\n",
    "len(df_ff_crf)"
   ]
  },
  {
   "cell_type": "markdown",
   "metadata": {},
   "source": [
    "#### Binary features"
   ]
  },
  {
   "cell_type": "markdown",
   "metadata": {},
   "source": [
    "##### use_prefix"
   ]
  },
  {
   "cell_type": "code",
   "execution_count": 33,
   "metadata": {},
   "outputs": [
    {
     "data": {
      "text/plain": [
       "<matplotlib.axes._subplots.AxesSubplot at 0x10bf041d0>"
      ]
     },
     "execution_count": 33,
     "metadata": {},
     "output_type": "execute_result"
    },
    {
     "data": {
      "image/png": "[encoded data removed]",
      "text/plain": [
       "<Figure size 864x576 with 1 Axes>"
      ]
     },
     "metadata": {},
     "output_type": "display_data"
    }
   ],
   "source": [
    "df_ff_crf.boxplot(column='f1', by='use_prefix', figsize=(12, 8))"
   ]
  },
  {
   "cell_type": "code",
   "execution_count": 34,
   "metadata": {},
   "outputs": [
    {
     "data": {
      "text/plain": [
       "Ttest_indResult(statistic=1.108218124633611, pvalue=0.27093070382047646)"
      ]
     },
     "execution_count": 34,
     "metadata": {},
     "output_type": "execute_result"
    }
   ],
   "source": [
    "ttest_ind(df_ff_crf[df_ff_crf.use_prefix]['f1'], df_ff_crf[~df_ff_crf.use_prefix]['f1'])"
   ]
  },
  {
   "cell_type": "markdown",
   "metadata": {},
   "source": [
    "The p-value is large, so we accept the null hypothesis. However, let's see if `use_chars` is turned off."
   ]
  },
  {
   "cell_type": "code",
   "execution_count": 35,
   "metadata": {},
   "outputs": [
    {
     "data": {
      "text/plain": [
       "48"
      ]
     },
     "execution_count": 35,
     "metadata": {},
     "output_type": "execute_result"
    }
   ],
   "source": [
    "len(df_ff_crf[~df_ff_crf.use_chars])"
   ]
  },
  {
   "cell_type": "code",
   "execution_count": 36,
   "metadata": {},
   "outputs": [
    {
     "data": {
      "text/plain": [
       "<matplotlib.axes._subplots.AxesSubplot at 0x10c051e48>"
      ]
     },
     "execution_count": 36,
     "metadata": {},
     "output_type": "execute_result"
    },
    {
     "data": {
      "image/png": "[encoded data removed]",
      "text/plain": [
       "<Figure size 864x576 with 1 Axes>"
      ]
     },
     "metadata": {},
     "output_type": "display_data"
    }
   ],
   "source": [
    "df_ff_crf[~df_ff_crf.use_chars].boxplot(column='f1', by='use_prefix', figsize=(12, 8))"
   ]
  },
  {
   "cell_type": "code",
   "execution_count": 37,
   "metadata": {},
   "outputs": [
    {
     "data": {
      "text/plain": [
       "Ttest_indResult(statistic=1.3225912485261841, pvalue=0.19250945615228)"
      ]
     },
     "execution_count": 37,
     "metadata": {},
     "output_type": "execute_result"
    }
   ],
   "source": [
    "ttest_ind(df_ff_crf[(~df_ff_crf.use_chars) & (df_ff_crf.use_prefix)]['f1'],\n",
    "          df_ff_crf[(~df_ff_crf.use_chars) & (~df_ff_crf.use_prefix)]['f1'])"
   ]
  },
  {
   "cell_type": "markdown",
   "metadata": {},
   "source": [
    "The p-value is still large, so we accept the null hypothesis. It seems that prefixes are not significant although characters are not used."
   ]
  },
  {
   "cell_type": "markdown",
   "metadata": {},
   "source": [
    "##### use_suffix"
   ]
  },
  {
   "cell_type": "code",
   "execution_count": 38,
   "metadata": {},
   "outputs": [
    {
     "data": {
      "text/plain": [
       "<matplotlib.axes._subplots.AxesSubplot at 0x10c0d3240>"
      ]
     },
     "execution_count": 38,
     "metadata": {},
     "output_type": "execute_result"
    },
    {
     "data": {
      "image/png": "[encoded data removed]",
      "text/plain": [
       "<Figure size 864x576 with 1 Axes>"
      ]
     },
     "metadata": {},
     "output_type": "display_data"
    }
   ],
   "source": [
    "df_ff_crf.boxplot(column='f1', by='use_suffix', figsize=(12, 8))"
   ]
  },
  {
   "cell_type": "code",
   "execution_count": 39,
   "metadata": {},
   "outputs": [
    {
     "data": {
      "text/plain": [
       "Ttest_indResult(statistic=1.4729588766878576, pvalue=0.14449947415424264)"
      ]
     },
     "execution_count": 39,
     "metadata": {},
     "output_type": "execute_result"
    }
   ],
   "source": [
    "ttest_ind(df_ff_crf[df_ff_crf.use_suffix]['f1'], df_ff_crf[~df_ff_crf.use_suffix]['f1'])"
   ]
  },
  {
   "cell_type": "markdown",
   "metadata": {},
   "source": [
    "Again, the p-value is large. Accept null hypothesis. Let's see when characters aren't used."
   ]
  },
  {
   "cell_type": "code",
   "execution_count": 40,
   "metadata": {},
   "outputs": [
    {
     "data": {
      "text/plain": [
       "<matplotlib.axes._subplots.AxesSubplot at 0x112374358>"
      ]
     },
     "execution_count": 40,
     "metadata": {},
     "output_type": "execute_result"
    },
    {
     "data": {
      "image/png": "[encoded data removed]",
      "text/plain": [
       "<Figure size 864x576 with 1 Axes>"
      ]
     },
     "metadata": {},
     "output_type": "display_data"
    }
   ],
   "source": [
    "df_ff_crf[~df_ff_crf.use_chars].boxplot(column='f1', by='use_suffix', figsize=(12, 8))"
   ]
  },
  {
   "cell_type": "code",
   "execution_count": 41,
   "metadata": {},
   "outputs": [
    {
     "data": {
      "text/plain": [
       "Ttest_indResult(statistic=2.07541758855775, pvalue=0.043566534588890225)"
      ]
     },
     "execution_count": 41,
     "metadata": {},
     "output_type": "execute_result"
    }
   ],
   "source": [
    "ttest_ind(df_ff_crf[(~df_ff_crf.use_chars) & (df_ff_crf.use_suffix)]['f1'],\n",
    "          df_ff_crf[(~df_ff_crf.use_chars) & (~df_ff_crf.use_suffix)]['f1'])"
   ]
  },
  {
   "cell_type": "markdown",
   "metadata": {},
   "source": [
    "The p-value is small (less than 0.05), so we reject the null hypothesis. Thus, it seems suffixes are significant for the feedforward with CRF layer model when characters are not used."
   ]
  },
  {
   "cell_type": "markdown",
   "metadata": {},
   "source": [
    "##### use_chars"
   ]
  },
  {
   "cell_type": "code",
   "execution_count": 42,
   "metadata": {},
   "outputs": [
    {
     "data": {
      "text/plain": [
       "<matplotlib.axes._subplots.AxesSubplot at 0x1123eb198>"
      ]
     },
     "execution_count": 42,
     "metadata": {},
     "output_type": "execute_result"
    },
    {
     "data": {
      "image/png": "[encoded data removed]",
      "text/plain": [
       "<Figure size 864x576 with 1 Axes>"
      ]
     },
     "metadata": {},
     "output_type": "display_data"
    }
   ],
   "source": [
    "df_ff_crf.boxplot(column='f1', by='use_chars', figsize=(12, 8))"
   ]
  },
  {
   "cell_type": "markdown",
   "metadata": {},
   "source": [
    "It seems `use_chars=True` is significantly better than `False`."
   ]
  },
  {
   "cell_type": "markdown",
   "metadata": {},
   "source": [
    "#### Multinomial variables"
   ]
  },
  {
   "cell_type": "markdown",
   "metadata": {},
   "source": [
    "##### window"
   ]
  },
  {
   "cell_type": "code",
   "execution_count": 43,
   "metadata": {},
   "outputs": [
    {
     "data": {
      "text/plain": [
       "<matplotlib.axes._subplots.AxesSubplot at 0x1a192efb00>"
      ]
     },
     "execution_count": 43,
     "metadata": {},
     "output_type": "execute_result"
    },
    {
     "data": {
      "image/png": "[encoded data removed]",
      "text/plain": [
       "<Figure size 864x576 with 1 Axes>"
      ]
     },
     "metadata": {},
     "output_type": "display_data"
    }
   ],
   "source": [
    "df_ff_crf.boxplot(column='f1', by='window', figsize=(12, 8))"
   ]
  },
  {
   "cell_type": "markdown",
   "metadata": {},
   "source": [
    "There does not seem any significant difference among different values for `window`."
   ]
  },
  {
   "cell_type": "markdown",
   "metadata": {},
   "source": [
    "##### filter_width"
   ]
  },
  {
   "cell_type": "code",
   "execution_count": 44,
   "metadata": {},
   "outputs": [
    {
     "data": {
      "text/plain": [
       "<matplotlib.axes._subplots.AxesSubplot at 0x1a19510a20>"
      ]
     },
     "execution_count": 44,
     "metadata": {},
     "output_type": "execute_result"
    },
    {
     "data": {
      "image/png": "[encoded data removed]",
      "text/plain": [
       "<Figure size 864x576 with 1 Axes>"
      ]
     },
     "metadata": {},
     "output_type": "display_data"
    }
   ],
   "source": [
    "df_ff_crf[df_ff_crf.use_chars].boxplot(column='f1', by='filter_width', figsize=(12, 8))"
   ]
  },
  {
   "cell_type": "markdown",
   "metadata": {},
   "source": [
    "From the plot, it seems `filter_width=2` or `filter_width=3` works best. This matches our intuition that character features should be able to capture affixes, which in Indonesian usually consists of 2 or 3 characters."
   ]
  },
  {
   "cell_type": "markdown",
   "metadata": {},
   "source": [
    "#### Continuous variables"
   ]
  },
  {
   "cell_type": "markdown",
   "metadata": {},
   "source": [
    "##### lr"
   ]
  },
  {
   "cell_type": "code",
   "execution_count": 45,
   "metadata": {},
   "outputs": [],
   "source": [
    "df_ff_crf2 = df_ff_crf.copy()"
   ]
  },
  {
   "cell_type": "code",
   "execution_count": 46,
   "metadata": {},
   "outputs": [],
   "source": [
    "df_ff_crf2['log10_lr'] = np.log10(df_ff_crf2['lr'])"
   ]
  },
  {
   "cell_type": "code",
   "execution_count": 47,
   "metadata": {},
   "outputs": [
    {
     "data": {
      "text/html": [
       "<div>\n",
       "<style scoped>\n",
       "    .dataframe tbody tr th:only-of-type {\n",
       "        vertical-align: middle;\n",
       "    }\n",
       "\n",
       "    .dataframe tbody tr th {\n",
       "        vertical-align: top;\n",
       "    }\n",
       "\n",
       "    .dataframe thead th {\n",
       "        text-align: right;\n",
       "    }\n",
       "</style>\n",
       "<table border=\"1\" class=\"dataframe\">\n",
       "  <thead>\n",
       "    <tr style=\"text-align: right;\">\n",
       "      <th></th>\n",
       "      <th>dropout</th>\n",
       "      <th>f1</th>\n",
       "      <th>filter_width</th>\n",
       "      <th>lr</th>\n",
       "      <th>run_id</th>\n",
       "      <th>seed</th>\n",
       "      <th>use_chars</th>\n",
       "      <th>use_crf</th>\n",
       "      <th>use_lstm</th>\n",
       "      <th>use_prefix</th>\n",
       "      <th>use_suffix</th>\n",
       "      <th>window</th>\n",
       "      <th>log10_lr</th>\n",
       "    </tr>\n",
       "  </thead>\n",
       "  <tbody>\n",
       "    <tr>\n",
       "      <th>17</th>\n",
       "      <td>0.247807</td>\n",
       "      <td>0.962183</td>\n",
       "      <td>1</td>\n",
       "      <td>0.027555</td>\n",
       "      <td>2688</td>\n",
       "      <td>69454154</td>\n",
       "      <td>False</td>\n",
       "      <td>True</td>\n",
       "      <td>False</td>\n",
       "      <td>True</td>\n",
       "      <td>False</td>\n",
       "      <td>4</td>\n",
       "      <td>-1.559795</td>\n",
       "    </tr>\n",
       "    <tr>\n",
       "      <th>24</th>\n",
       "      <td>0.368162</td>\n",
       "      <td>0.958497</td>\n",
       "      <td>2</td>\n",
       "      <td>0.019758</td>\n",
       "      <td>2695</td>\n",
       "      <td>669103111</td>\n",
       "      <td>False</td>\n",
       "      <td>True</td>\n",
       "      <td>False</td>\n",
       "      <td>False</td>\n",
       "      <td>False</td>\n",
       "      <td>3</td>\n",
       "      <td>-1.704251</td>\n",
       "    </tr>\n",
       "    <tr>\n",
       "      <th>26</th>\n",
       "      <td>0.517044</td>\n",
       "      <td>0.952728</td>\n",
       "      <td>5</td>\n",
       "      <td>0.076833</td>\n",
       "      <td>2697</td>\n",
       "      <td>302193560</td>\n",
       "      <td>False</td>\n",
       "      <td>True</td>\n",
       "      <td>False</td>\n",
       "      <td>False</td>\n",
       "      <td>False</td>\n",
       "      <td>1</td>\n",
       "      <td>-1.114450</td>\n",
       "    </tr>\n",
       "    <tr>\n",
       "      <th>32</th>\n",
       "      <td>0.157434</td>\n",
       "      <td>0.958784</td>\n",
       "      <td>5</td>\n",
       "      <td>0.000348</td>\n",
       "      <td>2703</td>\n",
       "      <td>146059897</td>\n",
       "      <td>False</td>\n",
       "      <td>True</td>\n",
       "      <td>False</td>\n",
       "      <td>True</td>\n",
       "      <td>False</td>\n",
       "      <td>3</td>\n",
       "      <td>-3.458432</td>\n",
       "    </tr>\n",
       "    <tr>\n",
       "      <th>34</th>\n",
       "      <td>0.075055</td>\n",
       "      <td>0.952112</td>\n",
       "      <td>1</td>\n",
       "      <td>0.000139</td>\n",
       "      <td>2705</td>\n",
       "      <td>129614248</td>\n",
       "      <td>False</td>\n",
       "      <td>True</td>\n",
       "      <td>False</td>\n",
       "      <td>True</td>\n",
       "      <td>False</td>\n",
       "      <td>0</td>\n",
       "      <td>-3.856884</td>\n",
       "    </tr>\n",
       "  </tbody>\n",
       "</table>\n",
       "</div>"
      ],
      "text/plain": [
       "     dropout        f1  filter_width        lr  run_id       seed  use_chars  \\\n",
       "17  0.247807  0.962183             1  0.027555    2688   69454154      False   \n",
       "24  0.368162  0.958497             2  0.019758    2695  669103111      False   \n",
       "26  0.517044  0.952728             5  0.076833    2697  302193560      False   \n",
       "32  0.157434  0.958784             5  0.000348    2703  146059897      False   \n",
       "34  0.075055  0.952112             1  0.000139    2705  129614248      False   \n",
       "\n",
       "    use_crf  use_lstm  use_prefix  use_suffix  window  log10_lr  \n",
       "17     True     False        True       False       4 -1.559795  \n",
       "24     True     False       False       False       3 -1.704251  \n",
       "26     True     False       False       False       1 -1.114450  \n",
       "32     True     False        True       False       3 -3.458432  \n",
       "34     True     False        True       False       0 -3.856884  "
      ]
     },
     "execution_count": 47,
     "metadata": {},
     "output_type": "execute_result"
    }
   ],
   "source": [
    "df_ff_crf2.head()"
   ]
  },
  {
   "cell_type": "code",
   "execution_count": 48,
   "metadata": {},
   "outputs": [
    {
     "data": {
      "text/plain": [
       "<matplotlib.axes._subplots.AxesSubplot at 0x1a19740400>"
      ]
     },
     "execution_count": 48,
     "metadata": {},
     "output_type": "execute_result"
    },
    {
     "data": {
      "image/png": "[encoded data removed]",
      "text/plain": [
       "<Figure size 432x288 with 1 Axes>"
      ]
     },
     "metadata": {},
     "output_type": "display_data"
    }
   ],
   "source": [
    "df_ff_crf2.plot.scatter(x='log10_lr', y='f1')"
   ]
  },
  {
   "cell_type": "markdown",
   "metadata": {},
   "source": [
    "The plot seems to have an upside-down U trend, although not very clearly. It seems the best range for `log10_lr` is between -3 and -1.5."
   ]
  },
  {
   "cell_type": "markdown",
   "metadata": {},
   "source": [
    "##### dropout"
   ]
  },
  {
   "cell_type": "code",
   "execution_count": 49,
   "metadata": {},
   "outputs": [
    {
     "data": {
      "text/plain": [
       "<matplotlib.axes._subplots.AxesSubplot at 0x1a1991e908>"
      ]
     },
     "execution_count": 49,
     "metadata": {},
     "output_type": "execute_result"
    },
    {
     "data": {
      "image/png": "[encoded data removed]",
      "text/plain": [
       "<Figure size 432x288 with 1 Axes>"
      ]
     },
     "metadata": {},
     "output_type": "display_data"
    }
   ],
   "source": [
    "df_ff_crf.plot.scatter(x='dropout', y='f1')"
   ]
  },
  {
   "cell_type": "markdown",
   "metadata": {},
   "source": [
    "It seems the best range for dropout is between 0.25 and 0.4."
   ]
  },
  {
   "cell_type": "markdown",
   "metadata": {},
   "source": [
    "#### Conclusion"
   ]
  },
  {
   "cell_type": "markdown",
   "metadata": {},
   "source": [
    "- Prefixes are not significant\n",
    "- Suffixes are significant only when characters are not used\n",
    "- Characters are significant\n",
    "- Any value for window achieves on par F1 score\n",
    "- Filter width of 2 or 3 is best\n",
    "- Best range for the power of learning rate is -3 ad -1.5\n",
    "- Best range for dropout is 0.25 to 0.4"
   ]
  },
  {
   "cell_type": "markdown",
   "metadata": {},
   "source": [
    "### LSTM"
   ]
  },
  {
   "cell_type": "code",
   "execution_count": 50,
   "metadata": {},
   "outputs": [],
   "source": [
    "df_lstm = df[(df.use_lstm) & (~df.use_crf)]"
   ]
  },
  {
   "cell_type": "code",
   "execution_count": 51,
   "metadata": {},
   "outputs": [
    {
     "data": {
      "text/html": [
       "<div>\n",
       "<style scoped>\n",
       "    .dataframe tbody tr th:only-of-type {\n",
       "        vertical-align: middle;\n",
       "    }\n",
       "\n",
       "    .dataframe tbody tr th {\n",
       "        vertical-align: top;\n",
       "    }\n",
       "\n",
       "    .dataframe thead th {\n",
       "        text-align: right;\n",
       "    }\n",
       "</style>\n",
       "<table border=\"1\" class=\"dataframe\">\n",
       "  <thead>\n",
       "    <tr style=\"text-align: right;\">\n",
       "      <th></th>\n",
       "      <th>dropout</th>\n",
       "      <th>f1</th>\n",
       "      <th>filter_width</th>\n",
       "      <th>lr</th>\n",
       "      <th>run_id</th>\n",
       "      <th>seed</th>\n",
       "      <th>use_chars</th>\n",
       "      <th>use_crf</th>\n",
       "      <th>use_lstm</th>\n",
       "      <th>use_prefix</th>\n",
       "      <th>use_suffix</th>\n",
       "      <th>window</th>\n",
       "    </tr>\n",
       "  </thead>\n",
       "  <tbody>\n",
       "    <tr>\n",
       "      <th>0</th>\n",
       "      <td>0.634423</td>\n",
       "      <td>0.204581</td>\n",
       "      <td>5</td>\n",
       "      <td>0.069038</td>\n",
       "      <td>2671</td>\n",
       "      <td>34012962</td>\n",
       "      <td>False</td>\n",
       "      <td>False</td>\n",
       "      <td>True</td>\n",
       "      <td>False</td>\n",
       "      <td>False</td>\n",
       "      <td>0</td>\n",
       "    </tr>\n",
       "    <tr>\n",
       "      <th>5</th>\n",
       "      <td>0.304057</td>\n",
       "      <td>0.960915</td>\n",
       "      <td>5</td>\n",
       "      <td>0.019847</td>\n",
       "      <td>2676</td>\n",
       "      <td>752276329</td>\n",
       "      <td>False</td>\n",
       "      <td>False</td>\n",
       "      <td>True</td>\n",
       "      <td>False</td>\n",
       "      <td>False</td>\n",
       "      <td>0</td>\n",
       "    </tr>\n",
       "    <tr>\n",
       "      <th>7</th>\n",
       "      <td>0.082773</td>\n",
       "      <td>0.968059</td>\n",
       "      <td>3</td>\n",
       "      <td>0.007260</td>\n",
       "      <td>2678</td>\n",
       "      <td>811399240</td>\n",
       "      <td>False</td>\n",
       "      <td>False</td>\n",
       "      <td>True</td>\n",
       "      <td>True</td>\n",
       "      <td>True</td>\n",
       "      <td>0</td>\n",
       "    </tr>\n",
       "    <tr>\n",
       "      <th>10</th>\n",
       "      <td>0.116364</td>\n",
       "      <td>0.965639</td>\n",
       "      <td>3</td>\n",
       "      <td>0.009684</td>\n",
       "      <td>2681</td>\n",
       "      <td>799135189</td>\n",
       "      <td>False</td>\n",
       "      <td>False</td>\n",
       "      <td>True</td>\n",
       "      <td>False</td>\n",
       "      <td>True</td>\n",
       "      <td>0</td>\n",
       "    </tr>\n",
       "    <tr>\n",
       "      <th>11</th>\n",
       "      <td>0.349528</td>\n",
       "      <td>0.967218</td>\n",
       "      <td>4</td>\n",
       "      <td>0.014770</td>\n",
       "      <td>2682</td>\n",
       "      <td>857452985</td>\n",
       "      <td>False</td>\n",
       "      <td>False</td>\n",
       "      <td>True</td>\n",
       "      <td>True</td>\n",
       "      <td>True</td>\n",
       "      <td>0</td>\n",
       "    </tr>\n",
       "  </tbody>\n",
       "</table>\n",
       "</div>"
      ],
      "text/plain": [
       "     dropout        f1  filter_width        lr  run_id       seed  use_chars  \\\n",
       "0   0.634423  0.204581             5  0.069038    2671   34012962      False   \n",
       "5   0.304057  0.960915             5  0.019847    2676  752276329      False   \n",
       "7   0.082773  0.968059             3  0.007260    2678  811399240      False   \n",
       "10  0.116364  0.965639             3  0.009684    2681  799135189      False   \n",
       "11  0.349528  0.967218             4  0.014770    2682  857452985      False   \n",
       "\n",
       "    use_crf  use_lstm  use_prefix  use_suffix  window  \n",
       "0     False      True       False       False       0  \n",
       "5     False      True       False       False       0  \n",
       "7     False      True        True        True       0  \n",
       "10    False      True       False        True       0  \n",
       "11    False      True        True        True       0  "
      ]
     },
     "execution_count": 51,
     "metadata": {},
     "output_type": "execute_result"
    }
   ],
   "source": [
    "df_lstm.head()"
   ]
  },
  {
   "cell_type": "markdown",
   "metadata": {},
   "source": [
    "#### Binary variables"
   ]
  },
  {
   "cell_type": "markdown",
   "metadata": {},
   "source": [
    "##### use_prefix"
   ]
  },
  {
   "cell_type": "code",
   "execution_count": 52,
   "metadata": {},
   "outputs": [
    {
     "data": {
      "text/plain": [
       "<matplotlib.axes._subplots.AxesSubplot at 0x1a19998c18>"
      ]
     },
     "execution_count": 52,
     "metadata": {},
     "output_type": "execute_result"
    },
    {
     "data": {
      "image/png": "[encoded data removed]",
      "text/plain": [
       "<Figure size 864x576 with 1 Axes>"
      ]
     },
     "metadata": {},
     "output_type": "display_data"
    }
   ],
   "source": [
    "df_lstm.boxplot(column='f1', by='use_prefix', figsize=(12, 8))"
   ]
  },
  {
   "cell_type": "markdown",
   "metadata": {},
   "source": [
    "There are outliers that make the plot squeezed. Let's remove those and plot again."
   ]
  },
  {
   "cell_type": "code",
   "execution_count": 53,
   "metadata": {},
   "outputs": [
    {
     "data": {
      "text/plain": [
       "72"
      ]
     },
     "execution_count": 53,
     "metadata": {},
     "output_type": "execute_result"
    }
   ],
   "source": [
    "df_lstm = df_lstm[df_lstm.f1 > 0.9]\n",
    "len(df_lstm)"
   ]
  },
  {
   "cell_type": "code",
   "execution_count": 54,
   "metadata": {},
   "outputs": [
    {
     "data": {
      "text/plain": [
       "<matplotlib.axes._subplots.AxesSubplot at 0x1a19a02860>"
      ]
     },
     "execution_count": 54,
     "metadata": {},
     "output_type": "execute_result"
    },
    {
     "data": {
      "image/png": "[encoded data removed]",
      "text/plain": [
       "<Figure size 864x576 with 1 Axes>"
      ]
     },
     "metadata": {},
     "output_type": "display_data"
    }
   ],
   "source": [
    "df_lstm.boxplot(column='f1', by='use_prefix', figsize=(12, 8))"
   ]
  },
  {
   "cell_type": "code",
   "execution_count": 55,
   "metadata": {},
   "outputs": [
    {
     "data": {
      "text/plain": [
       "Ttest_indResult(statistic=0.29197176741220354, pvalue=0.7711717829734396)"
      ]
     },
     "execution_count": 55,
     "metadata": {},
     "output_type": "execute_result"
    }
   ],
   "source": [
    "ttest_ind(df_lstm[df_lstm.use_prefix]['f1'], df_lstm[~df_lstm.use_prefix]['f1'])"
   ]
  },
  {
   "cell_type": "markdown",
   "metadata": {},
   "source": [
    "The p-value is high, so we accept null hypothesis. Let's see if characters are not used."
   ]
  },
  {
   "cell_type": "code",
   "execution_count": 56,
   "metadata": {},
   "outputs": [
    {
     "data": {
      "text/plain": [
       "37"
      ]
     },
     "execution_count": 56,
     "metadata": {},
     "output_type": "execute_result"
    }
   ],
   "source": [
    "len(df_lstm[~df_lstm.use_chars])"
   ]
  },
  {
   "cell_type": "code",
   "execution_count": 57,
   "metadata": {},
   "outputs": [
    {
     "data": {
      "text/plain": [
       "<matplotlib.axes._subplots.AxesSubplot at 0x1a19506128>"
      ]
     },
     "execution_count": 57,
     "metadata": {},
     "output_type": "execute_result"
    },
    {
     "data": {
      "image/png": "[encoded data removed]",
      "text/plain": [
       "<Figure size 864x576 with 1 Axes>"
      ]
     },
     "metadata": {},
     "output_type": "display_data"
    }
   ],
   "source": [
    "df_lstm[~df_lstm.use_chars].boxplot(column='f1', by='use_prefix', figsize=(12, 8))"
   ]
  },
  {
   "cell_type": "code",
   "execution_count": 58,
   "metadata": {},
   "outputs": [
    {
     "data": {
      "text/plain": [
       "Ttest_indResult(statistic=1.0670099499863603, pvalue=0.29327232719925583)"
      ]
     },
     "execution_count": 58,
     "metadata": {},
     "output_type": "execute_result"
    }
   ],
   "source": [
    "ttest_ind(df_lstm[(~df_lstm.use_chars) & (df_lstm.use_prefix)]['f1'],\n",
    "          df_lstm[(~df_lstm.use_chars) & (~df_lstm.use_prefix)]['f1'])"
   ]
  },
  {
   "cell_type": "markdown",
   "metadata": {},
   "source": [
    "The p-value is large, so we accept the null hypothesis."
   ]
  },
  {
   "cell_type": "markdown",
   "metadata": {},
   "source": [
    "##### use_suffix"
   ]
  },
  {
   "cell_type": "code",
   "execution_count": 59,
   "metadata": {},
   "outputs": [
    {
     "data": {
      "text/plain": [
       "<matplotlib.axes._subplots.AxesSubplot at 0x1a19de7e10>"
      ]
     },
     "execution_count": 59,
     "metadata": {},
     "output_type": "execute_result"
    },
    {
     "data": {
      "image/png": "[encoded data removed]",
      "text/plain": [
       "<Figure size 864x576 with 1 Axes>"
      ]
     },
     "metadata": {},
     "output_type": "display_data"
    }
   ],
   "source": [
    "df_lstm.boxplot(column='f1', by='use_suffix', figsize=(12, 8))"
   ]
  },
  {
   "cell_type": "code",
   "execution_count": 60,
   "metadata": {},
   "outputs": [
    {
     "data": {
      "text/plain": [
       "Ttest_indResult(statistic=1.981218370746986, pvalue=0.05149609388728235)"
      ]
     },
     "execution_count": 60,
     "metadata": {},
     "output_type": "execute_result"
    }
   ],
   "source": [
    "ttest_ind(df_lstm[df_lstm.use_suffix]['f1'], df_lstm[~df_lstm.use_suffix]['f1'])"
   ]
  },
  {
   "cell_type": "markdown",
   "metadata": {},
   "source": [
    "The p-value is still higher than 0.05, but close. Accept null hypothesis. Let's see when characters are not used."
   ]
  },
  {
   "cell_type": "code",
   "execution_count": 61,
   "metadata": {},
   "outputs": [
    {
     "data": {
      "text/plain": [
       "<matplotlib.axes._subplots.AxesSubplot at 0x1a19fd5d30>"
      ]
     },
     "execution_count": 61,
     "metadata": {},
     "output_type": "execute_result"
    },
    {
     "data": {
      "image/png": "[encoded data removed]",
      "text/plain": [
       "<Figure size 864x576 with 1 Axes>"
      ]
     },
     "metadata": {},
     "output_type": "display_data"
    }
   ],
   "source": [
    "df_lstm[~df_lstm.use_chars].boxplot(column='f1', by='use_suffix', figsize=(12, 8))"
   ]
  },
  {
   "cell_type": "code",
   "execution_count": 62,
   "metadata": {},
   "outputs": [
    {
     "data": {
      "text/plain": [
       "Ttest_indResult(statistic=2.3891716177980307, pvalue=0.022408839377679138)"
      ]
     },
     "execution_count": 62,
     "metadata": {},
     "output_type": "execute_result"
    }
   ],
   "source": [
    "ttest_ind(df_lstm[(~df_lstm.use_chars) & (df_lstm.use_suffix)]['f1'],\n",
    "          df_lstm[(~df_lstm.use_chars) & (~df_lstm.use_suffix)]['f1'])"
   ]
  },
  {
   "cell_type": "markdown",
   "metadata": {},
   "source": [
    "The p-value is small, so we reject the null hypothesis. So, it seems for the plain LSTM model, when characters are not used, suffixes are important."
   ]
  },
  {
   "cell_type": "markdown",
   "metadata": {},
   "source": [
    "##### use_chars"
   ]
  },
  {
   "cell_type": "code",
   "execution_count": 63,
   "metadata": {},
   "outputs": [
    {
     "data": {
      "text/plain": [
       "<matplotlib.axes._subplots.AxesSubplot at 0x1a19de7fd0>"
      ]
     },
     "execution_count": 63,
     "metadata": {},
     "output_type": "execute_result"
    },
    {
     "data": {
      "image/png": "[encoded data removed]",
      "text/plain": [
       "<Figure size 864x576 with 1 Axes>"
      ]
     },
     "metadata": {},
     "output_type": "display_data"
    }
   ],
   "source": [
    "df_lstm.boxplot(column='f1', by='use_chars', figsize=(12, 8))"
   ]
  },
  {
   "cell_type": "markdown",
   "metadata": {},
   "source": [
    "It seems `use_chars=True` is significantly better than `False`."
   ]
  },
  {
   "cell_type": "markdown",
   "metadata": {},
   "source": [
    "#### Multinomial variables"
   ]
  },
  {
   "cell_type": "markdown",
   "metadata": {},
   "source": [
    "##### filter_width"
   ]
  },
  {
   "cell_type": "code",
   "execution_count": 64,
   "metadata": {},
   "outputs": [
    {
     "data": {
      "text/plain": [
       "<matplotlib.axes._subplots.AxesSubplot at 0x1a1a3acf60>"
      ]
     },
     "execution_count": 64,
     "metadata": {},
     "output_type": "execute_result"
    },
    {
     "data": {
      "image/png": "[encoded data removed]",
      "text/plain": [
       "<Figure size 864x576 with 1 Axes>"
      ]
     },
     "metadata": {},
     "output_type": "display_data"
    }
   ],
   "source": [
    "df_lstm[df_lstm.use_chars].boxplot(column='f1', by='filter_width', figsize=(12, 8))"
   ]
  },
  {
   "cell_type": "markdown",
   "metadata": {},
   "source": [
    "It seems all width works equally well, although for width of 2 and 3, the F1 score sometimes can be lower than 0.96. Another surprising finding that does not align with our intuition."
   ]
  },
  {
   "cell_type": "markdown",
   "metadata": {},
   "source": [
    "#### Continuous variables"
   ]
  },
  {
   "cell_type": "markdown",
   "metadata": {},
   "source": [
    "##### lr"
   ]
  },
  {
   "cell_type": "code",
   "execution_count": 65,
   "metadata": {},
   "outputs": [],
   "source": [
    "df_lstm2 = df_lstm.copy()\n",
    "df_lstm2['log10_lr'] = np.log10(df_lstm2.lr)"
   ]
  },
  {
   "cell_type": "code",
   "execution_count": 66,
   "metadata": {},
   "outputs": [
    {
     "data": {
      "text/html": [
       "<div>\n",
       "<style scoped>\n",
       "    .dataframe tbody tr th:only-of-type {\n",
       "        vertical-align: middle;\n",
       "    }\n",
       "\n",
       "    .dataframe tbody tr th {\n",
       "        vertical-align: top;\n",
       "    }\n",
       "\n",
       "    .dataframe thead th {\n",
       "        text-align: right;\n",
       "    }\n",
       "</style>\n",
       "<table border=\"1\" class=\"dataframe\">\n",
       "  <thead>\n",
       "    <tr style=\"text-align: right;\">\n",
       "      <th></th>\n",
       "      <th>dropout</th>\n",
       "      <th>f1</th>\n",
       "      <th>filter_width</th>\n",
       "      <th>lr</th>\n",
       "      <th>run_id</th>\n",
       "      <th>seed</th>\n",
       "      <th>use_chars</th>\n",
       "      <th>use_crf</th>\n",
       "      <th>use_lstm</th>\n",
       "      <th>use_prefix</th>\n",
       "      <th>use_suffix</th>\n",
       "      <th>window</th>\n",
       "      <th>log10_lr</th>\n",
       "    </tr>\n",
       "  </thead>\n",
       "  <tbody>\n",
       "    <tr>\n",
       "      <th>5</th>\n",
       "      <td>0.304057</td>\n",
       "      <td>0.960915</td>\n",
       "      <td>5</td>\n",
       "      <td>0.019847</td>\n",
       "      <td>2676</td>\n",
       "      <td>752276329</td>\n",
       "      <td>False</td>\n",
       "      <td>False</td>\n",
       "      <td>True</td>\n",
       "      <td>False</td>\n",
       "      <td>False</td>\n",
       "      <td>0</td>\n",
       "      <td>-1.702298</td>\n",
       "    </tr>\n",
       "    <tr>\n",
       "      <th>7</th>\n",
       "      <td>0.082773</td>\n",
       "      <td>0.968059</td>\n",
       "      <td>3</td>\n",
       "      <td>0.007260</td>\n",
       "      <td>2678</td>\n",
       "      <td>811399240</td>\n",
       "      <td>False</td>\n",
       "      <td>False</td>\n",
       "      <td>True</td>\n",
       "      <td>True</td>\n",
       "      <td>True</td>\n",
       "      <td>0</td>\n",
       "      <td>-2.139071</td>\n",
       "    </tr>\n",
       "    <tr>\n",
       "      <th>10</th>\n",
       "      <td>0.116364</td>\n",
       "      <td>0.965639</td>\n",
       "      <td>3</td>\n",
       "      <td>0.009684</td>\n",
       "      <td>2681</td>\n",
       "      <td>799135189</td>\n",
       "      <td>False</td>\n",
       "      <td>False</td>\n",
       "      <td>True</td>\n",
       "      <td>False</td>\n",
       "      <td>True</td>\n",
       "      <td>0</td>\n",
       "      <td>-2.013935</td>\n",
       "    </tr>\n",
       "    <tr>\n",
       "      <th>11</th>\n",
       "      <td>0.349528</td>\n",
       "      <td>0.967218</td>\n",
       "      <td>4</td>\n",
       "      <td>0.014770</td>\n",
       "      <td>2682</td>\n",
       "      <td>857452985</td>\n",
       "      <td>False</td>\n",
       "      <td>False</td>\n",
       "      <td>True</td>\n",
       "      <td>True</td>\n",
       "      <td>True</td>\n",
       "      <td>0</td>\n",
       "      <td>-1.830630</td>\n",
       "    </tr>\n",
       "    <tr>\n",
       "      <th>12</th>\n",
       "      <td>0.173727</td>\n",
       "      <td>0.959045</td>\n",
       "      <td>3</td>\n",
       "      <td>0.001144</td>\n",
       "      <td>2683</td>\n",
       "      <td>819392958</td>\n",
       "      <td>False</td>\n",
       "      <td>False</td>\n",
       "      <td>True</td>\n",
       "      <td>False</td>\n",
       "      <td>False</td>\n",
       "      <td>0</td>\n",
       "      <td>-2.941499</td>\n",
       "    </tr>\n",
       "  </tbody>\n",
       "</table>\n",
       "</div>"
      ],
      "text/plain": [
       "     dropout        f1  filter_width        lr  run_id       seed  use_chars  \\\n",
       "5   0.304057  0.960915             5  0.019847    2676  752276329      False   \n",
       "7   0.082773  0.968059             3  0.007260    2678  811399240      False   \n",
       "10  0.116364  0.965639             3  0.009684    2681  799135189      False   \n",
       "11  0.349528  0.967218             4  0.014770    2682  857452985      False   \n",
       "12  0.173727  0.959045             3  0.001144    2683  819392958      False   \n",
       "\n",
       "    use_crf  use_lstm  use_prefix  use_suffix  window  log10_lr  \n",
       "5     False      True       False       False       0 -1.702298  \n",
       "7     False      True        True        True       0 -2.139071  \n",
       "10    False      True       False        True       0 -2.013935  \n",
       "11    False      True        True        True       0 -1.830630  \n",
       "12    False      True       False       False       0 -2.941499  "
      ]
     },
     "execution_count": 66,
     "metadata": {},
     "output_type": "execute_result"
    }
   ],
   "source": [
    "df_lstm2.head()"
   ]
  },
  {
   "cell_type": "code",
   "execution_count": 67,
   "metadata": {},
   "outputs": [
    {
     "data": {
      "text/plain": [
       "<matplotlib.axes._subplots.AxesSubplot at 0x1a1a5c7ba8>"
      ]
     },
     "execution_count": 67,
     "metadata": {},
     "output_type": "execute_result"
    },
    {
     "data": {
      "image/png": "[encoded data removed]",
      "text/plain": [
       "<Figure size 432x288 with 1 Axes>"
      ]
     },
     "metadata": {},
     "output_type": "display_data"
    }
   ],
   "source": [
    "df_lstm2.plot.scatter(x='log10_lr', y='f1')"
   ]
  },
  {
   "cell_type": "markdown",
   "metadata": {},
   "source": [
    "It seems the best range for `log10_lr` is around -2.5 and -2."
   ]
  },
  {
   "cell_type": "markdown",
   "metadata": {},
   "source": [
    "##### dropout"
   ]
  },
  {
   "cell_type": "code",
   "execution_count": 68,
   "metadata": {},
   "outputs": [
    {
     "data": {
      "text/plain": [
       "<matplotlib.axes._subplots.AxesSubplot at 0x1a19be9828>"
      ]
     },
     "execution_count": 68,
     "metadata": {},
     "output_type": "execute_result"
    },
    {
     "data": {
      "image/png": "[encoded data removed]",
      "text/plain": [
       "<Figure size 432x288 with 1 Axes>"
      ]
     },
     "metadata": {},
     "output_type": "display_data"
    }
   ],
   "source": [
    "df_lstm.plot.scatter(x='dropout', y='f1')"
   ]
  },
  {
   "cell_type": "markdown",
   "metadata": {},
   "source": [
    "It seems the best range for `dropout` is between 0 and 0.4."
   ]
  },
  {
   "cell_type": "markdown",
   "metadata": {},
   "source": [
    "#### Conclusion"
   ]
  },
  {
   "cell_type": "markdown",
   "metadata": {},
   "source": [
    "- Prefixes are not significant\n",
    "- Suffixes are significant only when characters are not used\n",
    "- Characters are significant\n",
    "- All filter width values are equally good, although width of 2 and 3 can achieve significantly lower score sometimes\n",
    "- Best range for the power of learning rate is -2.5 and -2\n",
    "- Best range for dropout is 0 to 0.4"
   ]
  },
  {
   "cell_type": "markdown",
   "metadata": {},
   "source": [
    "### LSTM + CRF"
   ]
  },
  {
   "cell_type": "code",
   "execution_count": 69,
   "metadata": {},
   "outputs": [
    {
     "data": {
      "text/plain": [
       "60"
      ]
     },
     "execution_count": 69,
     "metadata": {},
     "output_type": "execute_result"
    }
   ],
   "source": [
    "df_lstm_crf = df[(df.use_lstm) & (df.use_crf)]\n",
    "len(df_lstm_crf)"
   ]
  },
  {
   "cell_type": "code",
   "execution_count": 70,
   "metadata": {},
   "outputs": [
    {
     "data": {
      "text/html": [
       "<div>\n",
       "<style scoped>\n",
       "    .dataframe tbody tr th:only-of-type {\n",
       "        vertical-align: middle;\n",
       "    }\n",
       "\n",
       "    .dataframe tbody tr th {\n",
       "        vertical-align: top;\n",
       "    }\n",
       "\n",
       "    .dataframe thead th {\n",
       "        text-align: right;\n",
       "    }\n",
       "</style>\n",
       "<table border=\"1\" class=\"dataframe\">\n",
       "  <thead>\n",
       "    <tr style=\"text-align: right;\">\n",
       "      <th></th>\n",
       "      <th>dropout</th>\n",
       "      <th>f1</th>\n",
       "      <th>filter_width</th>\n",
       "      <th>lr</th>\n",
       "      <th>run_id</th>\n",
       "      <th>seed</th>\n",
       "      <th>use_chars</th>\n",
       "      <th>use_crf</th>\n",
       "      <th>use_lstm</th>\n",
       "      <th>use_prefix</th>\n",
       "      <th>use_suffix</th>\n",
       "      <th>window</th>\n",
       "    </tr>\n",
       "  </thead>\n",
       "  <tbody>\n",
       "    <tr>\n",
       "      <th>19</th>\n",
       "      <td>0.235024</td>\n",
       "      <td>0.962237</td>\n",
       "      <td>4</td>\n",
       "      <td>0.006790</td>\n",
       "      <td>2690</td>\n",
       "      <td>781994409</td>\n",
       "      <td>False</td>\n",
       "      <td>True</td>\n",
       "      <td>True</td>\n",
       "      <td>False</td>\n",
       "      <td>False</td>\n",
       "      <td>0</td>\n",
       "    </tr>\n",
       "    <tr>\n",
       "      <th>23</th>\n",
       "      <td>0.038882</td>\n",
       "      <td>0.957793</td>\n",
       "      <td>1</td>\n",
       "      <td>0.046885</td>\n",
       "      <td>2694</td>\n",
       "      <td>786525377</td>\n",
       "      <td>False</td>\n",
       "      <td>True</td>\n",
       "      <td>True</td>\n",
       "      <td>False</td>\n",
       "      <td>False</td>\n",
       "      <td>0</td>\n",
       "    </tr>\n",
       "    <tr>\n",
       "      <th>25</th>\n",
       "      <td>0.524174</td>\n",
       "      <td>0.956736</td>\n",
       "      <td>4</td>\n",
       "      <td>0.016753</td>\n",
       "      <td>2696</td>\n",
       "      <td>166688225</td>\n",
       "      <td>False</td>\n",
       "      <td>True</td>\n",
       "      <td>True</td>\n",
       "      <td>False</td>\n",
       "      <td>False</td>\n",
       "      <td>0</td>\n",
       "    </tr>\n",
       "    <tr>\n",
       "      <th>27</th>\n",
       "      <td>0.490529</td>\n",
       "      <td>0.962259</td>\n",
       "      <td>3</td>\n",
       "      <td>0.013497</td>\n",
       "      <td>2698</td>\n",
       "      <td>540186964</td>\n",
       "      <td>False</td>\n",
       "      <td>True</td>\n",
       "      <td>True</td>\n",
       "      <td>False</td>\n",
       "      <td>True</td>\n",
       "      <td>0</td>\n",
       "    </tr>\n",
       "    <tr>\n",
       "      <th>29</th>\n",
       "      <td>0.184974</td>\n",
       "      <td>0.967649</td>\n",
       "      <td>2</td>\n",
       "      <td>0.000706</td>\n",
       "      <td>2700</td>\n",
       "      <td>763545544</td>\n",
       "      <td>False</td>\n",
       "      <td>True</td>\n",
       "      <td>True</td>\n",
       "      <td>True</td>\n",
       "      <td>True</td>\n",
       "      <td>0</td>\n",
       "    </tr>\n",
       "  </tbody>\n",
       "</table>\n",
       "</div>"
      ],
      "text/plain": [
       "     dropout        f1  filter_width        lr  run_id       seed  use_chars  \\\n",
       "19  0.235024  0.962237             4  0.006790    2690  781994409      False   \n",
       "23  0.038882  0.957793             1  0.046885    2694  786525377      False   \n",
       "25  0.524174  0.956736             4  0.016753    2696  166688225      False   \n",
       "27  0.490529  0.962259             3  0.013497    2698  540186964      False   \n",
       "29  0.184974  0.967649             2  0.000706    2700  763545544      False   \n",
       "\n",
       "    use_crf  use_lstm  use_prefix  use_suffix  window  \n",
       "19     True      True       False       False       0  \n",
       "23     True      True       False       False       0  \n",
       "25     True      True       False       False       0  \n",
       "27     True      True       False        True       0  \n",
       "29     True      True        True        True       0  "
      ]
     },
     "execution_count": 70,
     "metadata": {},
     "output_type": "execute_result"
    }
   ],
   "source": [
    "df_lstm_crf.head()"
   ]
  },
  {
   "cell_type": "markdown",
   "metadata": {},
   "source": [
    "#### Binary variables"
   ]
  },
  {
   "cell_type": "markdown",
   "metadata": {},
   "source": [
    "##### use_prefix"
   ]
  },
  {
   "cell_type": "code",
   "execution_count": 71,
   "metadata": {},
   "outputs": [
    {
     "data": {
      "text/plain": [
       "<matplotlib.axes._subplots.AxesSubplot at 0x1a1a81b208>"
      ]
     },
     "execution_count": 71,
     "metadata": {},
     "output_type": "execute_result"
    },
    {
     "data": {
      "image/png": "[encoded data removed]",
      "text/plain": [
       "<Figure size 864x576 with 1 Axes>"
      ]
     },
     "metadata": {},
     "output_type": "display_data"
    }
   ],
   "source": [
    "df_lstm_crf.boxplot(column='f1', by='use_prefix', figsize=(12, 8))"
   ]
  },
  {
   "cell_type": "markdown",
   "metadata": {},
   "source": [
    "Let's remove the outliers for good."
   ]
  },
  {
   "cell_type": "code",
   "execution_count": 72,
   "metadata": {},
   "outputs": [],
   "source": [
    "df_lstm_crf = df_lstm_crf[df_lstm_crf.f1 > 0.9]"
   ]
  },
  {
   "cell_type": "code",
   "execution_count": 73,
   "metadata": {},
   "outputs": [
    {
     "data": {
      "text/plain": [
       "53"
      ]
     },
     "execution_count": 73,
     "metadata": {},
     "output_type": "execute_result"
    }
   ],
   "source": [
    "len(df_lstm_crf)"
   ]
  },
  {
   "cell_type": "code",
   "execution_count": 74,
   "metadata": {},
   "outputs": [
    {
     "data": {
      "text/plain": [
       "<matplotlib.axes._subplots.AxesSubplot at 0x1a1a8ed6a0>"
      ]
     },
     "execution_count": 74,
     "metadata": {},
     "output_type": "execute_result"
    },
    {
     "data": {
      "image/png": "[encoded data removed]",
      "text/plain": [
       "<Figure size 864x576 with 1 Axes>"
      ]
     },
     "metadata": {},
     "output_type": "display_data"
    }
   ],
   "source": [
    "df_lstm_crf.boxplot(column='f1', by='use_prefix', figsize=(12, 8))"
   ]
  },
  {
   "cell_type": "code",
   "execution_count": 75,
   "metadata": {},
   "outputs": [
    {
     "data": {
      "text/plain": [
       "Ttest_indResult(statistic=-1.081041485123039, pvalue=0.28476416656325537)"
      ]
     },
     "execution_count": 75,
     "metadata": {},
     "output_type": "execute_result"
    }
   ],
   "source": [
    "ttest_ind(df_lstm_crf[df_lstm_crf.use_prefix]['f1'], df_lstm_crf[~df_lstm_crf.use_prefix]['f1'])"
   ]
  },
  {
   "cell_type": "markdown",
   "metadata": {},
   "source": [
    "The p-value is large, so we accept the null hypothesis. Let's see when characters are not used."
   ]
  },
  {
   "cell_type": "code",
   "execution_count": 76,
   "metadata": {},
   "outputs": [
    {
     "data": {
      "text/plain": [
       "32"
      ]
     },
     "execution_count": 76,
     "metadata": {},
     "output_type": "execute_result"
    }
   ],
   "source": [
    "len(df_lstm_crf[~df_lstm_crf.use_chars])"
   ]
  },
  {
   "cell_type": "code",
   "execution_count": 77,
   "metadata": {},
   "outputs": [
    {
     "data": {
      "text/plain": [
       "<matplotlib.axes._subplots.AxesSubplot at 0x1a1aac6668>"
      ]
     },
     "execution_count": 77,
     "metadata": {},
     "output_type": "execute_result"
    },
    {
     "data": {
      "image/png": "[encoded data removed]",
      "text/plain": [
       "<Figure size 864x576 with 1 Axes>"
      ]
     },
     "metadata": {},
     "output_type": "display_data"
    }
   ],
   "source": [
    "df_lstm_crf[~df_lstm_crf.use_chars].boxplot(column='f1', by='use_prefix', figsize=(12, 8))"
   ]
  },
  {
   "cell_type": "code",
   "execution_count": 78,
   "metadata": {},
   "outputs": [
    {
     "data": {
      "text/plain": [
       "Ttest_indResult(statistic=-1.2780859034012706, pvalue=0.21102004039886552)"
      ]
     },
     "execution_count": 78,
     "metadata": {},
     "output_type": "execute_result"
    }
   ],
   "source": [
    "ttest_ind(df_lstm_crf[(~df_lstm_crf.use_chars) & (df_lstm_crf.use_prefix)]['f1'],\n",
    "          df_lstm_crf[(~df_lstm_crf.use_chars) & (~df_lstm_crf.use_prefix)]['f1'])"
   ]
  },
  {
   "cell_type": "markdown",
   "metadata": {},
   "source": [
    "The p-value is still large, so we accept the null hypothesis."
   ]
  },
  {
   "cell_type": "markdown",
   "metadata": {},
   "source": [
    "##### use_suffix"
   ]
  },
  {
   "cell_type": "code",
   "execution_count": 79,
   "metadata": {},
   "outputs": [
    {
     "data": {
      "text/plain": [
       "<matplotlib.axes._subplots.AxesSubplot at 0x1a1acb0ba8>"
      ]
     },
     "execution_count": 79,
     "metadata": {},
     "output_type": "execute_result"
    },
    {
     "data": {
      "image/png": "[encoded data removed]",
      "text/plain": [
       "<Figure size 864x576 with 1 Axes>"
      ]
     },
     "metadata": {},
     "output_type": "display_data"
    }
   ],
   "source": [
    "df_lstm_crf.boxplot(column='f1', by='use_suffix', figsize=(12, 8))"
   ]
  },
  {
   "cell_type": "code",
   "execution_count": 80,
   "metadata": {},
   "outputs": [
    {
     "data": {
      "text/plain": [
       "Ttest_indResult(statistic=1.5331947240684682, pvalue=0.13140841024594854)"
      ]
     },
     "execution_count": 80,
     "metadata": {},
     "output_type": "execute_result"
    }
   ],
   "source": [
    "ttest_ind(df_lstm_crf[df_lstm_crf.use_suffix]['f1'], df_lstm_crf[~df_lstm_crf.use_suffix]['f1'])"
   ]
  },
  {
   "cell_type": "markdown",
   "metadata": {},
   "source": [
    "The p-value is large, so we accept the null hypothesis. Let's see when character features are not used."
   ]
  },
  {
   "cell_type": "code",
   "execution_count": 81,
   "metadata": {},
   "outputs": [
    {
     "data": {
      "text/plain": [
       "<matplotlib.axes._subplots.AxesSubplot at 0x1a1aeb5c18>"
      ]
     },
     "execution_count": 81,
     "metadata": {},
     "output_type": "execute_result"
    },
    {
     "data": {
      "image/png": "[encoded data removed]",
      "text/plain": [
       "<Figure size 864x576 with 1 Axes>"
      ]
     },
     "metadata": {},
     "output_type": "display_data"
    }
   ],
   "source": [
    "df_lstm_crf[~df_lstm_crf.use_chars].boxplot(column='f1', by='use_suffix', figsize=(12, 8))"
   ]
  },
  {
   "cell_type": "code",
   "execution_count": 82,
   "metadata": {},
   "outputs": [
    {
     "data": {
      "text/plain": [
       "Ttest_indResult(statistic=1.7900051549250553, pvalue=0.08355201933787905)"
      ]
     },
     "execution_count": 82,
     "metadata": {},
     "output_type": "execute_result"
    }
   ],
   "source": [
    "ttest_ind(df_lstm_crf[(~df_lstm_crf.use_chars) & (df_lstm_crf.use_suffix)]['f1'],\n",
    "          df_lstm_crf[(~df_lstm_crf.use_chars) & (~df_lstm_crf.use_suffix)]['f1'])"
   ]
  },
  {
   "cell_type": "markdown",
   "metadata": {},
   "source": [
    "The p-value is large, so again we accept the null hypothesis."
   ]
  },
  {
   "cell_type": "markdown",
   "metadata": {},
   "source": [
    "##### use_chars"
   ]
  },
  {
   "cell_type": "code",
   "execution_count": 83,
   "metadata": {},
   "outputs": [
    {
     "data": {
      "text/plain": [
       "<matplotlib.axes._subplots.AxesSubplot at 0x1a1b08cbe0>"
      ]
     },
     "execution_count": 83,
     "metadata": {},
     "output_type": "execute_result"
    },
    {
     "data": {
      "image/png": "[encoded data removed]",
      "text/plain": [
       "<Figure size 864x576 with 1 Axes>"
      ]
     },
     "metadata": {},
     "output_type": "display_data"
    }
   ],
   "source": [
    "df_lstm_crf.boxplot(column='f1', by='use_chars', figsize=(12, 8))"
   ]
  },
  {
   "cell_type": "code",
   "execution_count": 84,
   "metadata": {},
   "outputs": [
    {
     "data": {
      "text/plain": [
       "Ttest_indResult(statistic=1.4403620998635718, pvalue=0.1558760956949545)"
      ]
     },
     "execution_count": 84,
     "metadata": {},
     "output_type": "execute_result"
    }
   ],
   "source": [
    "ttest_ind(df_lstm_crf[df_lstm_crf.use_chars]['f1'], df_lstm_crf[~df_lstm_crf.use_chars]['f1'])"
   ]
  },
  {
   "cell_type": "markdown",
   "metadata": {},
   "source": [
    "The p-value is large. Accept null hypothesis. So it seems character features are not so useful anymore in this case."
   ]
  },
  {
   "cell_type": "markdown",
   "metadata": {},
   "source": [
    "#### Multinomial variables"
   ]
  },
  {
   "cell_type": "markdown",
   "metadata": {},
   "source": [
    "##### filter_width"
   ]
  },
  {
   "cell_type": "code",
   "execution_count": 85,
   "metadata": {},
   "outputs": [
    {
     "data": {
      "text/plain": [
       "<matplotlib.axes._subplots.AxesSubplot at 0x1a1b281278>"
      ]
     },
     "execution_count": 85,
     "metadata": {},
     "output_type": "execute_result"
    },
    {
     "data": {
      "image/png": "[encoded data removed]",
      "text/plain": [
       "<Figure size 864x576 with 1 Axes>"
      ]
     },
     "metadata": {},
     "output_type": "display_data"
    }
   ],
   "source": [
    "df_lstm_crf[df_lstm_crf.use_chars].boxplot(column='f1', by='filter_width', figsize=(12, 8))"
   ]
  },
  {
   "cell_type": "markdown",
   "metadata": {},
   "source": [
    "It seems the best value for `filter_width` is 2 or 4. Surprisingly, from the plot we see that width of 3 has a bad performance."
   ]
  },
  {
   "cell_type": "markdown",
   "metadata": {},
   "source": [
    "#### Continuous variables"
   ]
  },
  {
   "cell_type": "markdown",
   "metadata": {},
   "source": [
    "##### lr"
   ]
  },
  {
   "cell_type": "code",
   "execution_count": 86,
   "metadata": {},
   "outputs": [],
   "source": [
    "df_lstm_crf2 = df_lstm_crf.copy()\n",
    "df_lstm_crf2['log10_lr'] = np.log10(df_lstm_crf2.lr)"
   ]
  },
  {
   "cell_type": "code",
   "execution_count": 87,
   "metadata": {},
   "outputs": [
    {
     "data": {
      "text/html": [
       "<div>\n",
       "<style scoped>\n",
       "    .dataframe tbody tr th:only-of-type {\n",
       "        vertical-align: middle;\n",
       "    }\n",
       "\n",
       "    .dataframe tbody tr th {\n",
       "        vertical-align: top;\n",
       "    }\n",
       "\n",
       "    .dataframe thead th {\n",
       "        text-align: right;\n",
       "    }\n",
       "</style>\n",
       "<table border=\"1\" class=\"dataframe\">\n",
       "  <thead>\n",
       "    <tr style=\"text-align: right;\">\n",
       "      <th></th>\n",
       "      <th>dropout</th>\n",
       "      <th>f1</th>\n",
       "      <th>filter_width</th>\n",
       "      <th>lr</th>\n",
       "      <th>run_id</th>\n",
       "      <th>seed</th>\n",
       "      <th>use_chars</th>\n",
       "      <th>use_crf</th>\n",
       "      <th>use_lstm</th>\n",
       "      <th>use_prefix</th>\n",
       "      <th>use_suffix</th>\n",
       "      <th>window</th>\n",
       "      <th>log10_lr</th>\n",
       "    </tr>\n",
       "  </thead>\n",
       "  <tbody>\n",
       "    <tr>\n",
       "      <th>19</th>\n",
       "      <td>0.235024</td>\n",
       "      <td>0.962237</td>\n",
       "      <td>4</td>\n",
       "      <td>0.006790</td>\n",
       "      <td>2690</td>\n",
       "      <td>781994409</td>\n",
       "      <td>False</td>\n",
       "      <td>True</td>\n",
       "      <td>True</td>\n",
       "      <td>False</td>\n",
       "      <td>False</td>\n",
       "      <td>0</td>\n",
       "      <td>-2.168103</td>\n",
       "    </tr>\n",
       "    <tr>\n",
       "      <th>23</th>\n",
       "      <td>0.038882</td>\n",
       "      <td>0.957793</td>\n",
       "      <td>1</td>\n",
       "      <td>0.046885</td>\n",
       "      <td>2694</td>\n",
       "      <td>786525377</td>\n",
       "      <td>False</td>\n",
       "      <td>True</td>\n",
       "      <td>True</td>\n",
       "      <td>False</td>\n",
       "      <td>False</td>\n",
       "      <td>0</td>\n",
       "      <td>-1.328963</td>\n",
       "    </tr>\n",
       "    <tr>\n",
       "      <th>25</th>\n",
       "      <td>0.524174</td>\n",
       "      <td>0.956736</td>\n",
       "      <td>4</td>\n",
       "      <td>0.016753</td>\n",
       "      <td>2696</td>\n",
       "      <td>166688225</td>\n",
       "      <td>False</td>\n",
       "      <td>True</td>\n",
       "      <td>True</td>\n",
       "      <td>False</td>\n",
       "      <td>False</td>\n",
       "      <td>0</td>\n",
       "      <td>-1.775919</td>\n",
       "    </tr>\n",
       "    <tr>\n",
       "      <th>27</th>\n",
       "      <td>0.490529</td>\n",
       "      <td>0.962259</td>\n",
       "      <td>3</td>\n",
       "      <td>0.013497</td>\n",
       "      <td>2698</td>\n",
       "      <td>540186964</td>\n",
       "      <td>False</td>\n",
       "      <td>True</td>\n",
       "      <td>True</td>\n",
       "      <td>False</td>\n",
       "      <td>True</td>\n",
       "      <td>0</td>\n",
       "      <td>-1.869759</td>\n",
       "    </tr>\n",
       "    <tr>\n",
       "      <th>29</th>\n",
       "      <td>0.184974</td>\n",
       "      <td>0.967649</td>\n",
       "      <td>2</td>\n",
       "      <td>0.000706</td>\n",
       "      <td>2700</td>\n",
       "      <td>763545544</td>\n",
       "      <td>False</td>\n",
       "      <td>True</td>\n",
       "      <td>True</td>\n",
       "      <td>True</td>\n",
       "      <td>True</td>\n",
       "      <td>0</td>\n",
       "      <td>-3.151045</td>\n",
       "    </tr>\n",
       "  </tbody>\n",
       "</table>\n",
       "</div>"
      ],
      "text/plain": [
       "     dropout        f1  filter_width        lr  run_id       seed  use_chars  \\\n",
       "19  0.235024  0.962237             4  0.006790    2690  781994409      False   \n",
       "23  0.038882  0.957793             1  0.046885    2694  786525377      False   \n",
       "25  0.524174  0.956736             4  0.016753    2696  166688225      False   \n",
       "27  0.490529  0.962259             3  0.013497    2698  540186964      False   \n",
       "29  0.184974  0.967649             2  0.000706    2700  763545544      False   \n",
       "\n",
       "    use_crf  use_lstm  use_prefix  use_suffix  window  log10_lr  \n",
       "19     True      True       False       False       0 -2.168103  \n",
       "23     True      True       False       False       0 -1.328963  \n",
       "25     True      True       False       False       0 -1.775919  \n",
       "27     True      True       False        True       0 -1.869759  \n",
       "29     True      True        True        True       0 -3.151045  "
      ]
     },
     "execution_count": 87,
     "metadata": {},
     "output_type": "execute_result"
    }
   ],
   "source": [
    "df_lstm_crf2.head()"
   ]
  },
  {
   "cell_type": "code",
   "execution_count": 88,
   "metadata": {},
   "outputs": [
    {
     "data": {
      "text/plain": [
       "<matplotlib.axes._subplots.AxesSubplot at 0x1a1b0a04e0>"
      ]
     },
     "execution_count": 88,
     "metadata": {},
     "output_type": "execute_result"
    },
    {
     "data": {
      "image/png": "[encoded data removed]",
      "text/plain": [
       "<Figure size 432x288 with 1 Axes>"
      ]
     },
     "metadata": {},
     "output_type": "display_data"
    }
   ],
   "source": [
    "df_lstm_crf2.plot.scatter(x='log10_lr', y='f1')"
   ]
  },
  {
   "cell_type": "markdown",
   "metadata": {},
   "source": [
    "The best range for `lr` seems to be between -3 and -2."
   ]
  },
  {
   "cell_type": "markdown",
   "metadata": {},
   "source": [
    "##### dropout"
   ]
  },
  {
   "cell_type": "code",
   "execution_count": 89,
   "metadata": {},
   "outputs": [
    {
     "data": {
      "text/plain": [
       "<matplotlib.axes._subplots.AxesSubplot at 0x1a1b6827b8>"
      ]
     },
     "execution_count": 89,
     "metadata": {},
     "output_type": "execute_result"
    },
    {
     "data": {
      "image/png": "[encoded data removed]",
      "text/plain": [
       "<Figure size 432x288 with 1 Axes>"
      ]
     },
     "metadata": {},
     "output_type": "display_data"
    }
   ],
   "source": [
    "df_lstm_crf.plot.scatter(x='dropout', y='f1')"
   ]
  },
  {
   "cell_type": "markdown",
   "metadata": {},
   "source": [
    "The best range for dropout seems to be between 0 and 0.2."
   ]
  },
  {
   "cell_type": "markdown",
   "metadata": {},
   "source": [
    "#### Conclusion"
   ]
  },
  {
   "cell_type": "markdown",
   "metadata": {},
   "source": [
    "- Prefixes are not significant\n",
    "- Suffixes are not significant\n",
    "- Characters are not significant\n",
    "- Best filter width values are 2 or 4\n",
    "- Best range for the power of learning rate is -3 to -2\n",
    "- Best range for dropout is 0 to 0.2"
   ]
  }
 ],
 "metadata": {
  "kernelspec": {
   "display_name": "Python 3",
   "language": "python",
   "name": "python3"
  },
  "language_info": {
   "codemirror_mode": {
    "name": "ipython",
    "version": 3
   },
   "file_extension": ".py",
   "mimetype": "text/x-python",
   "name": "python",
   "nbconvert_exporter": "python",
   "pygments_lexer": "ipython3",
   "version": "3.6.5"
  }
 },
 "nbformat": 4,
 "nbformat_minor": 2
}
